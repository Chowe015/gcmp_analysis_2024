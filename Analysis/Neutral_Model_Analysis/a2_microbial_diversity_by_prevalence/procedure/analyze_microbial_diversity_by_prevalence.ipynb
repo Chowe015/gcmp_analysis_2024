{
 "cells": [
  {
   "cell_type": "markdown",
   "id": "ab281137-a920-4c9a-8266-30387c223390",
   "metadata": {},
   "source": [
    "# Split feature table by distribution \n",
    "\n",
    "## Overview\n",
    "\n",
    "This notebook contains code to analyze mucus, tissue, and skeleton feature tables. To do this we are first going to split out each table to test if they are at above, below or at the prevelance and abundance predicted by neutral theory. \n",
    "The result of this first table will be 9 possible tables mucus_above, mucus_below, mucus_neutral, tissue_above, tissue_below...etc"
   ]
  },
  {
   "cell_type": "markdown",
   "id": "0318094f",
   "metadata": {},
   "source": [
    "## Import libraries"
   ]
  },
  {
   "cell_type": "code",
   "execution_count": 1,
   "id": "1c15ef25",
   "metadata": {},
   "outputs": [],
   "source": [
    "import matplotlib.pyplot as plt\n",
    "import numpy as np\n",
    "from qiime2 import Artifact\n",
    "from os import listdir\n",
    "import pandas as pd\n",
    "from qiime2 import Metadata\n",
    "from qiime2.plugins.diversity.visualizers import alpha_group_significance\n",
    "from qiime2.plugins.feature_table.methods import filter_features\n",
    "from qiime2.plugins.diversity.pipelines import alpha\n",
    "from qiime2.plugins.feature_table.methods import filter_features_conditionally"
   ]
  },
  {
   "cell_type": "markdown",
   "id": "77d6603b",
   "metadata": {},
   "source": [
    "## Load data and metadata"
   ]
  },
  {
   "cell_type": "code",
   "execution_count": 3,
   "id": "a20ddde7",
   "metadata": {},
   "outputs": [
    {
     "name": "stdout",
     "output_type": "stream",
     "text": [
      "About to load the feature table\n",
      "Done\n",
      "About to load the metadata table\n",
      "Done\n",
      "Done\n",
      "\u001b[32mImported ../output/M_rarefied_table_index_renamed.biom as BIOMV100Format to ../output/M_rarefied_table.qza\u001b[0m\n",
      "\u001b[0m\u001b[32mResult ../output/M_rarefied_table.qza appears to be valid at level=max.\u001b[0m\n",
      "\u001b[0mDone\n",
      "\u001b[32mImported ../output/T_rarefied_table_index_renamed.biom as BIOMV100Format to ../output/T_rarefied_table.qza\u001b[0m\n",
      "\u001b[0m\u001b[32mResult ../output/T_rarefied_table.qza appears to be valid at level=max.\u001b[0m\n",
      "\u001b[0mDone\n",
      "\u001b[32mImported ../output/S_rarefied_table_index_renamed.biom as BIOMV100Format to ../output/S_rarefied_table.qza\u001b[0m\n",
      "\u001b[0m\u001b[32mResult ../output/S_rarefied_table.qza appears to be valid at level=max.\u001b[0m\n",
      "\u001b[0m"
     ]
    }
   ],
   "source": [
    "# Load the data\n",
    "print(\"About to load the feature table\")\n",
    "feature_table = Artifact.load(\"../../Neutral Model Analysis/input/carib_silva_merged_table.qza\")\n",
    "print(\"Done\")\n",
    "\n",
    "# Load the metadata\n",
    "print(\"About to load the metadata table\")\n",
    "metadata = Metadata.load(\"../../Neutral Model Analysis/input/carib_merged_mapping.txt\")\n",
    "print(\"Done\")\n",
    "\n",
    "#Load the data as csv files\n",
    "mucus_data = pd.read_csv(\"../input/M_rarefied_table.csv\")\n",
    "mucus_data = mucus_data.set_index(\"id\")\n",
    "mucus_data = mucus_data.rename_axis('#OTU ID')\n",
    "mucus_data.to_csv(\"../output/M_rarefied_table_index_renamed.tsv\", sep = '\\t' )\n",
    "print(\"Done\")\n",
    "mucus_data\n",
    "!biom convert --input-fp ../output/M_rarefied_table_index_renamed.tsv -o ../output/M_rarefied_table_index_renamed.biom --table-type='OTU table' --to-json\n",
    "# Turn BIOM file into QIIME 2 artifact (qza)\n",
    "!qiime tools import \\\n",
    "  --input-path ../output/M_rarefied_table_index_renamed.biom \\\n",
    "  --type 'FeatureTable[Frequency]' \\\n",
    "  --input-format BIOMV100Format \\\n",
    "  --output-path ../output/M_rarefied_table.qza\n",
    "\n",
    "# Validate QIIME 2 artifact file\n",
    "!qiime tools validate ../output/M_rarefied_table.qza\n",
    "\n",
    "#Load the data as csv files\n",
    "tissue_data = pd.read_csv(\"../input/T_rarefied_table.csv\")\n",
    "tissue_data = tissue_data.set_index(\"id\")\n",
    "tissue_data = tissue_data.rename_axis('#OTU ID')\n",
    "tissue_data.to_csv(\"../output/T_rarefied_table_index_renamed.tsv\", sep = '\\t' )\n",
    "print(\"Done\")\n",
    "tissue_data\n",
    "!biom convert --input-fp ../output/T_rarefied_table_index_renamed.tsv -o ../output/T_rarefied_table_index_renamed.biom --table-type='OTU table' --to-json\n",
    "# Turn BIOM file into QIIME 2 artifact (qza)\n",
    "!qiime tools import \\\n",
    "  --input-path ../output/T_rarefied_table_index_renamed.biom \\\n",
    "  --type 'FeatureTable[Frequency]' \\\n",
    "  --input-format BIOMV100Format \\\n",
    "  --output-path ../output/T_rarefied_table.qza\n",
    "\n",
    "# Validate QIIME 2 artifact file\n",
    "!qiime tools validate ../output/T_rarefied_table.qza\n",
    "\n",
    "\n",
    "#Load the data as csv files\n",
    "skeleton_data = pd.read_csv(\"../input/S_rarefied_table.csv\")\n",
    "skeleton_data = skeleton_data.set_index(\"id\")\n",
    "skeleton_data = skeleton_data.rename_axis('#OTU ID')\n",
    "skeleton_data.to_csv(\"../output/S_rarefied_table_index_renamed.tsv\", sep = '\\t' )\n",
    "print(\"Done\")\n",
    "skeleton_data\n",
    "!biom convert --input-fp ../output/S_rarefied_table_index_renamed.tsv -o ../output/S_rarefied_table_index_renamed.biom --table-type='OTU table' --to-json\n",
    "# Turn BIOM file into QIIME 2 artifact (qza)\n",
    "!qiime tools import \\\n",
    "  --input-path ../output/S_rarefied_table_index_renamed.biom \\\n",
    "  --type 'FeatureTable[Frequency]' \\\n",
    "  --input-format BIOMV100Format \\\n",
    "  --output-path ../output/S_rarefied_table.qza\n",
    "\n",
    "# Validate QIIME 2 artifact file\n",
    "!qiime tools validate ../output/S_rarefied_table.qza"
   ]
  },
  {
   "cell_type": "markdown",
   "id": "15c3fe0b",
   "metadata": {},
   "source": [
    "## Calculating mucus alpha diversity\n",
    "\n",
    "In the next section of code we load our mucus qza file and we calculate alpha diversity."
   ]
  },
  {
   "cell_type": "code",
   "execution_count": 4,
   "id": "ef932914",
   "metadata": {},
   "outputs": [
    {
     "name": "stdout",
     "output_type": "stream",
     "text": [
      "Done\n",
      "Done\n"
     ]
    },
    {
     "name": "stderr",
     "output_type": "stream",
     "text": [
      "/home/bebefg/miniconda3/envs/qiime2-amplicon-2024.5/lib/python3.9/site-packages/skbio/util/_warning.py:60: UserWarning: observed_otus is deprecated as of 0.6.0.\n",
      "  warn(f\"{func.__name__} is deprecated as of {ver}.\")\n",
      "/home/bebefg/miniconda3/envs/qiime2-amplicon-2024.5/lib/python3.9/site-packages/q2_types/sample_data/_transformer.py:27: FutureWarning: errors='ignore' is deprecated and will raise in a future version. Use to_numeric without passing `errors` and catch exceptions explicitly instead\n",
      "  df[cols] = df[cols].apply(pd.to_numeric, errors='ignore')\n"
     ]
    },
    {
     "name": "stdout",
     "output_type": "stream",
     "text": [
      "Done\n",
      "1256-012-C121-M               0.986786\n",
      "1256-019-C123-M               0.965825\n",
      "1256-022-C127-M               0.993080\n",
      "1256-025-C128-M               0.944596\n",
      "1256-028-C129-M               0.993080\n",
      "                                ...   \n",
      "E7.6.Mon.aequ.3.20150620.M    0.948491\n",
      "E7.6.Mon.aequ.4.20150620.M    0.949207\n",
      "E7.7.Pav.vari.1.20150622.M    0.834301\n",
      "E7.7.Pav.vari.1.20150623.M    0.979678\n",
      "E7.7.Pav.vari.2.20150622.M    0.857870\n",
      "Name: gini_index, Length: 292, dtype: float64\n"
     ]
    },
    {
     "name": "stderr",
     "output_type": "stream",
     "text": [
      "/home/bebefg/miniconda3/envs/qiime2-amplicon-2024.5/lib/python3.9/site-packages/q2_types/sample_data/_transformer.py:27: FutureWarning: errors='ignore' is deprecated and will raise in a future version. Use to_numeric without passing `errors` and catch exceptions explicitly instead\n",
      "  df[cols] = df[cols].apply(pd.to_numeric, errors='ignore')\n"
     ]
    }
   ],
   "source": [
    "# Load QZA feature tables\n",
    "mucus_table = Artifact.load(\"../output/M_rarefied_table.qza\")\n",
    "\n",
    "mucus_data\n",
    "# Filter by abundance and prevalence\n",
    "filtered_mucus_result = filter_features_conditionally(table=mucus_table, abundance=0.01, prevalence=1/50)\n",
    "filtered_mucus_table = filtered_mucus_result.filtered_table\n",
    "print(\"Done\")\n",
    "\n",
    "# Further filter by min frequency and sample occurrence\n",
    "filtered_mucus_result = filter_features(table=filtered_mucus_table, min_frequency=100, min_samples=2, filter_empty_samples=True)\n",
    "filtered_mucus_table = filtered_mucus_result.filtered_table\n",
    "print(\"Done\")\n",
    "\n",
    "# Calculate observed features (species richness)\n",
    "alpha_obs_mucus_result = alpha(table=filtered_mucus_table, metric=\"observed_features\")\n",
    "observed_mucus_alpha_diversity = alpha_obs_mucus_result.alpha_diversity\n",
    "obs_mucus_alpha_diversity_df = observed_mucus_alpha_diversity.view(pd.Series)\n",
    "print(\"Done\")\n",
    "\n",
    "\n",
    "# Calculate Gini index (evenness)\n",
    "alpha_gini_mucus_result = alpha(table=filtered_mucus_table, metric=\"gini_index\")\n",
    "gini_index_mucus = alpha_gini_mucus_result.alpha_diversity\n",
    "gini_mucus_df = gini_index_mucus.view(pd.Series)\n",
    "print(\"Done\")\n",
    "\n"
   ]
  },
  {
   "cell_type": "code",
   "execution_count": 10,
   "id": "10c54b9c",
   "metadata": {},
   "outputs": [],
   "source": [
    "## next step\n",
    "##give path to the file and make a function to"
   ]
  },
  {
   "cell_type": "code",
   "execution_count": 9,
   "id": "ae6ba601",
   "metadata": {},
   "outputs": [
    {
     "name": "stdout",
     "output_type": "stream",
     "text": [
      "Done\n",
      "Done\n"
     ]
    },
    {
     "name": "stderr",
     "output_type": "stream",
     "text": [
      "/home/bebefg/miniconda3/envs/qiime2-amplicon-2024.5/lib/python3.9/site-packages/q2_types/sample_data/_transformer.py:27: FutureWarning: errors='ignore' is deprecated and will raise in a future version. Use to_numeric without passing `errors` and catch exceptions explicitly instead\n",
      "  df[cols] = df[cols].apply(pd.to_numeric, errors='ignore')\n"
     ]
    },
    {
     "name": "stdout",
     "output_type": "stream",
     "text": [
      "Done\n"
     ]
    },
    {
     "name": "stderr",
     "output_type": "stream",
     "text": [
      "/home/bebefg/miniconda3/envs/qiime2-amplicon-2024.5/lib/python3.9/site-packages/q2_types/sample_data/_transformer.py:27: FutureWarning: errors='ignore' is deprecated and will raise in a future version. Use to_numeric without passing `errors` and catch exceptions explicitly instead\n",
      "  df[cols] = df[cols].apply(pd.to_numeric, errors='ignore')\n"
     ]
    },
    {
     "name": "stdout",
     "output_type": "stream",
     "text": [
      "Done\n",
      "Done\n",
      "Done\n"
     ]
    },
    {
     "name": "stderr",
     "output_type": "stream",
     "text": [
      "/home/bebefg/miniconda3/envs/qiime2-amplicon-2024.5/lib/python3.9/site-packages/q2_types/sample_data/_transformer.py:27: FutureWarning: errors='ignore' is deprecated and will raise in a future version. Use to_numeric without passing `errors` and catch exceptions explicitly instead\n",
      "  df[cols] = df[cols].apply(pd.to_numeric, errors='ignore')\n"
     ]
    },
    {
     "name": "stdout",
     "output_type": "stream",
     "text": [
      "Done\n",
      "Done\n"
     ]
    },
    {
     "name": "stderr",
     "output_type": "stream",
     "text": [
      "/home/bebefg/miniconda3/envs/qiime2-amplicon-2024.5/lib/python3.9/site-packages/q2_types/sample_data/_transformer.py:27: FutureWarning: errors='ignore' is deprecated and will raise in a future version. Use to_numeric without passing `errors` and catch exceptions explicitly instead\n",
      "  df[cols] = df[cols].apply(pd.to_numeric, errors='ignore')\n"
     ]
    }
   ],
   "source": [
    "tissue_table = Artifact.load(\"../output/T_rarefied_table.qza\")\n",
    "skeleton_table = Artifact.load(\"../output/S_rarefied_table.qza\")\n",
    "\n",
    "\n",
    "tissue_data\n",
    "# Filter by abundance and prevalence\n",
    "filtered_tissue_result = filter_features_conditionally(table=tissue_table, abundance=0.01, prevalence=1/50)\n",
    "filtered_tissue_table = filtered_tissue_result.filtered_table\n",
    "print(\"Done\")\n",
    "\n",
    "# Further filter by min frequency and sample occurrence\n",
    "filtered_tissue_result = filter_features(table=filtered_tissue_table, min_frequency=100, min_samples=2, filter_empty_samples=True)\n",
    "filtered_tissue_table = filtered_tissue_result.filtered_table\n",
    "print(\"Done\")\n",
    "\n",
    "# Calculate observed features (species richness)\n",
    "alpha_obs_tissue_result = alpha(table=filtered_tissue_table, metric=\"observed_features\")\n",
    "observed_tissue_features = alpha_obs_tissue_result.alpha_diversity\n",
    "obs_tissue_df = observed_tissue_features.view(pd.Series)\n",
    "print(\"Done\")\n",
    "\n",
    "# Calculate Gini index (evenness)\n",
    "alpha_gini_tissue_result = alpha(table=filtered_tissue_table, metric=\"gini_index\")\n",
    "gini_tissue_index = alpha_gini_tissue_result.alpha_diversity\n",
    "gini_tissue_df = gini_tissue_index.view(pd.Series)\n",
    "print(\"Done\")\n",
    "\n",
    "\n",
    "\n",
    "skeleton_data\n",
    "# Filter by abundance and prevalence\n",
    "filtered_skeleton_result = filter_features_conditionally(table=skeleton_table, abundance=0.01, prevalence=1/50)\n",
    "filtered_skeleton_table = filtered_skeleton_result.filtered_table\n",
    "print(\"Done\")\n",
    "\n",
    "# Further filter by min frequency and sample occurrence\n",
    "filtered_skeleton_result = filter_features(table=skeleton_table, min_frequency=100, min_samples=2, filter_empty_samples=True)\n",
    "filtered_skeleton_table = filtered_skeleton_result.filtered_table\n",
    "print(\"Done\")\n",
    "\n",
    "# Calculate observed features (species richness)\n",
    "alpha_obs_skeleton_result = alpha(table=filtered_skeleton_table, metric=\"observed_features\")\n",
    "observed_skeleton_features = alpha_obs_skeleton_result.alpha_diversity\n",
    "obs_skeleton_df = observed_skeleton_features.view(pd.Series)\n",
    "print(\"Done\")\n",
    "\n",
    "# Calculate Gini index (evenness)\n",
    "alpha_gini_skeleton_result = alpha(table=filtered_skeleton_table, metric=\"gini_index\")\n",
    "gini_skeleton_index = alpha_gini_skeleton_result.alpha_diversity\n",
    "gini_skeleton_df = gini_skeleton_index.view(pd.Series)\n",
    "print(\"Done\")"
   ]
  },
  {
   "cell_type": "code",
   "execution_count": 4,
   "id": "703f28ab",
   "metadata": {},
   "outputs": [
    {
     "ename": "NameError",
     "evalue": "name 'obs_mucus_df' is not defined",
     "output_type": "error",
     "traceback": [
      "\u001b[0;31m---------------------------------------------------------------------------\u001b[0m",
      "\u001b[0;31mNameError\u001b[0m                                 Traceback (most recent call last)",
      "Cell \u001b[0;32mIn[4], line 3\u001b[0m\n\u001b[1;32m      1\u001b[0m get_ipython()\u001b[38;5;241m.\u001b[39mrun_line_magic(\u001b[38;5;124m'\u001b[39m\u001b[38;5;124mmatplotlib\u001b[39m\u001b[38;5;124m'\u001b[39m, \u001b[38;5;124m'\u001b[39m\u001b[38;5;124minline\u001b[39m\u001b[38;5;124m'\u001b[39m)\n\u001b[1;32m      2\u001b[0m \u001b[38;5;66;03m# Calculate mean richness for each sample type\u001b[39;00m\n\u001b[0;32m----> 3\u001b[0m means \u001b[38;5;241m=\u001b[39m [\u001b[43mobs_mucus_df\u001b[49m\u001b[38;5;241m.\u001b[39mmean(), obs_tissue_df\u001b[38;5;241m.\u001b[39mmean(), obs_skeleton_df\u001b[38;5;241m.\u001b[39mmean() ]\n\u001b[1;32m      5\u001b[0m \u001b[38;5;66;03m# Labels for the bars\u001b[39;00m\n\u001b[1;32m      6\u001b[0m labels \u001b[38;5;241m=\u001b[39m [\u001b[38;5;124m'\u001b[39m\u001b[38;5;124mMucus\u001b[39m\u001b[38;5;124m'\u001b[39m, \u001b[38;5;124m'\u001b[39m\u001b[38;5;124mTissue\u001b[39m\u001b[38;5;124m'\u001b[39m, \u001b[38;5;124m'\u001b[39m\u001b[38;5;124mSkeleton\u001b[39m\u001b[38;5;124m'\u001b[39m]\n",
      "\u001b[0;31mNameError\u001b[0m: name 'obs_mucus_df' is not defined"
     ]
    }
   ],
   "source": [
    "%matplotlib inline\n",
    "# Calculate mean richness for each sample type\n",
    "means = [obs_mucus_df.mean(), obs_tissue_df.mean(), obs_skeleton_df.mean() ]\n",
    "\n",
    "# Labels for the bars\n",
    "labels = ['Mucus', 'Tissue', 'Skeleton']\n",
    "\n",
    "# Plot\n",
    "plt.figure(figsize=(8, 6))\n",
    "plt.bar(labels, means)\n",
    "plt.title('Average Observed Features (Richness)')\n",
    "plt.ylabel('Observed Features')\n",
    "plt.xlabel('Sample Type')\n",
    "plt.tight_layout()\n",
    "plt.show()"
   ]
  },
  {
   "cell_type": "markdown",
   "id": "fbf7fa8d",
   "metadata": {},
   "source": [
    "## Calculate alpha diversity for mucus, skeleton, and tissue tables\n",
    "\n",
    "In the next section of code we calculate alpha diversity for feature table."
   ]
  },
  {
   "cell_type": "code",
   "execution_count": 5,
   "id": "8378289b",
   "metadata": {},
   "outputs": [],
   "source": [
    "def calc_alpha_diversity(feature_table_path, sample_type, metrics=[\"observed_features\", \"gini_index\"]):\n",
    "    \"\"\"\n",
    "    Calculate and return alpha diversity metrics for a feature table.\n",
    "    \n",
    "    Parameters:\n",
    "    - feature_table_path: str, path to the .qza file\n",
    "    - sample_type: str, name of the sample (e.g., 'tissue', 'skeleton', 'mucus')\n",
    "    - metrics: list, alpha diversity metrics to calculate\n",
    "    \n",
    "    Returns:\n",
    "    - DataFrame with sample IDs as index and metrics + sample type as columns\n",
    "    \"\"\"\n",
    "    # Load feature table\n",
    "    feature_table = Artifact.load(feature_table_path)\n",
    "\n",
    "    # Filter by abundance and prevalence\n",
    "    filtered_result = filter_features_conditionally(\n",
    "        table=feature_table, abundance=0.01, prevalence=1/50)\n",
    "    \n",
    "    filtered_table = filtered_result.filtered_table\n",
    "    print(f\"{sample_type} - Done: abundance/prevalence filtering\")\n",
    "\n",
    "    # Further filter by min frequency and sample occurrence\n",
    "    filtered_result = filter_features(\n",
    "        table=filtered_table, min_frequency=100, min_samples=2, filter_empty_samples=True)\n",
    "    \n",
    "    filtered_table = filtered_result.filtered_table\n",
    "    print(f\"{sample_type} - Done: frequency/sample filtering\")\n",
    "\n",
    "    # Collect alpha diversity results\n",
    "    alpha_results = {}\n",
    "    for metric in metrics:\n",
    "        alpha_result = alpha(table=filtered_table, metric=metric)\n",
    "        alpha_series = alpha_result.alpha_diversity.view(pd.Series)\n",
    "        alpha_results[metric] = alpha_series\n",
    "        print(f\"{sample_type} - Done: {metric}\")\n",
    "\n",
    "    # Combine into single DataFrame\n",
    "    df = pd.DataFrame(alpha_results)\n",
    "    df[\"sample_type\"] = sample_type\n",
    "    return df\n"
   ]
  },
  {
   "cell_type": "code",
   "execution_count": 7,
   "id": "3f7e1387",
   "metadata": {},
   "outputs": [
    {
     "name": "stdout",
     "output_type": "stream",
     "text": [
      "Mucus - Done: abundance/prevalence filtering\n",
      "Mucus - Done: frequency/sample filtering\n"
     ]
    },
    {
     "name": "stderr",
     "output_type": "stream",
     "text": [
      "/home/bebefg/miniconda3/envs/qiime2-amplicon-2024.5/lib/python3.9/site-packages/q2_types/sample_data/_transformer.py:27: FutureWarning: errors='ignore' is deprecated and will raise in a future version. Use to_numeric without passing `errors` and catch exceptions explicitly instead\n",
      "  df[cols] = df[cols].apply(pd.to_numeric, errors='ignore')\n"
     ]
    },
    {
     "name": "stdout",
     "output_type": "stream",
     "text": [
      "Mucus - Done: observed_features\n"
     ]
    },
    {
     "name": "stderr",
     "output_type": "stream",
     "text": [
      "/home/bebefg/miniconda3/envs/qiime2-amplicon-2024.5/lib/python3.9/site-packages/q2_types/sample_data/_transformer.py:27: FutureWarning: errors='ignore' is deprecated and will raise in a future version. Use to_numeric without passing `errors` and catch exceptions explicitly instead\n",
      "  df[cols] = df[cols].apply(pd.to_numeric, errors='ignore')\n"
     ]
    },
    {
     "name": "stdout",
     "output_type": "stream",
     "text": [
      "Mucus - Done: gini_index\n",
      "Tissue - Done: abundance/prevalence filtering\n",
      "Tissue - Done: frequency/sample filtering\n"
     ]
    },
    {
     "name": "stderr",
     "output_type": "stream",
     "text": [
      "/home/bebefg/miniconda3/envs/qiime2-amplicon-2024.5/lib/python3.9/site-packages/q2_types/sample_data/_transformer.py:27: FutureWarning: errors='ignore' is deprecated and will raise in a future version. Use to_numeric without passing `errors` and catch exceptions explicitly instead\n",
      "  df[cols] = df[cols].apply(pd.to_numeric, errors='ignore')\n"
     ]
    },
    {
     "name": "stdout",
     "output_type": "stream",
     "text": [
      "Tissue - Done: observed_features\n"
     ]
    },
    {
     "name": "stderr",
     "output_type": "stream",
     "text": [
      "/home/bebefg/miniconda3/envs/qiime2-amplicon-2024.5/lib/python3.9/site-packages/q2_types/sample_data/_transformer.py:27: FutureWarning: errors='ignore' is deprecated and will raise in a future version. Use to_numeric without passing `errors` and catch exceptions explicitly instead\n",
      "  df[cols] = df[cols].apply(pd.to_numeric, errors='ignore')\n"
     ]
    },
    {
     "name": "stdout",
     "output_type": "stream",
     "text": [
      "Tissue - Done: gini_index\n",
      "Skeleton - Done: abundance/prevalence filtering\n",
      "Skeleton - Done: frequency/sample filtering\n"
     ]
    },
    {
     "name": "stderr",
     "output_type": "stream",
     "text": [
      "/home/bebefg/miniconda3/envs/qiime2-amplicon-2024.5/lib/python3.9/site-packages/q2_types/sample_data/_transformer.py:27: FutureWarning: errors='ignore' is deprecated and will raise in a future version. Use to_numeric without passing `errors` and catch exceptions explicitly instead\n",
      "  df[cols] = df[cols].apply(pd.to_numeric, errors='ignore')\n"
     ]
    },
    {
     "name": "stdout",
     "output_type": "stream",
     "text": [
      "Skeleton - Done: observed_features\n",
      "Skeleton - Done: gini_index\n"
     ]
    },
    {
     "name": "stderr",
     "output_type": "stream",
     "text": [
      "/home/bebefg/miniconda3/envs/qiime2-amplicon-2024.5/lib/python3.9/site-packages/q2_types/sample_data/_transformer.py:27: FutureWarning: errors='ignore' is deprecated and will raise in a future version. Use to_numeric without passing `errors` and catch exceptions explicitly instead\n",
      "  df[cols] = df[cols].apply(pd.to_numeric, errors='ignore')\n"
     ]
    }
   ],
   "source": [
    "mucus_df = calc_alpha_diversity(\"../output/M_rarefied_table.qza\", \"Mucus\")\n",
    "mucus_df.to_csv(\"Mucus_alpha_diversity.csv\")\n",
    "\n",
    "tissue_df = calc_alpha_diversity(\"../output/T_rarefied_table.qza\", \"Tissue\")\n",
    "tissue_df.to_csv(\"Tisse_alpha_diversity.csv\")\n",
    "\n",
    "skeleton_df = calc_alpha_diversity(\"../output/S_rarefied_table.qza\", \"Skeleton\")\n",
    "skeleton_df.to_csv(\"Skeleton_alpha_diversity.csv\")"
   ]
  },
  {
   "cell_type": "markdown",
   "id": "4aec9233",
   "metadata": {},
   "source": [
    "## Filter feature table\n",
    "\n",
    "Filter the feature table to just microbes with a minimum abundance and prevalance.\n",
    "Our feature table has many zero counts representing microbes that are present in just a few samples.\n",
    "Therefore we want to remove rare microbes that are present in fewer than 1/50 samples, or less than 1% of the total abundance.\n",
    "\n",
    "We also filter the feature table second time to a minimum frequency of 100 counts per microbe and occurence in 2 minimum samples."
   ]
  },
  {
   "cell_type": "code",
   "execution_count": null,
   "id": "f7316f04",
   "metadata": {},
   "outputs": [],
   "source": [
    "# Apply filtering \n",
    "filtered_feature_table_results = filter_features_conditionally(table = feature_table, abundance = 0.01, prevalence = 1/50)\n",
    "filtered_feature_table = filtered_feature_table_results.filtered_table\n",
    "df = filtered_feature_table.view(pd.DataFrame)"
   ]
  },
  {
   "cell_type": "code",
   "execution_count": null,
   "id": "f30d52cd",
   "metadata": {},
   "outputs": [],
   "source": [
    "# Then apply additional feature filtering\n",
    "filtered_feature_table_results = filter_features(\n",
    "    table=filtered_feature_table,\n",
    "    min_frequency=100,  # Minimum total frequency for a feature to be retained\n",
    "    min_samples=2,      # Minimum number of samples a feature must be present in\n",
    "    filter_empty_samples=True  # Remove samples with no features after filtering    \n",
    ")\n",
    "filtered_feature_table = filtered_feature_table_results.filtered_table\n"
   ]
  },
  {
   "cell_type": "markdown",
   "id": "aa9e911d",
   "metadata": {},
   "source": [
    "## Calculate observed features\n",
    "\n",
    "We calculate the observed features(species richness) of microbes from our filtered feature table. we're counting how many different types of microbes show up in each sample. The more different types of microbes we find, the higher our diversity count."
   ]
  },
  {
   "cell_type": "code",
   "execution_count": null,
   "id": "b23166a6",
   "metadata": {},
   "outputs": [],
   "source": [
    "#calculate observed features\n",
    "\n",
    "alpha_diversity_results = alpha(table = filtered_feature_table, metric = \"observed_features\")\n",
    "observed_features = alpha_diversity_results.alpha_diversity\n",
    "\n",
    "print(observed_features)"
   ]
  },
  {
   "cell_type": "markdown",
   "id": "94872446",
   "metadata": {},
   "source": [
    "## Calculate gini index\n",
    "\n",
    "Calculate the gini index of microbes from our filtered feature table. This measures how evenly our microbes are distributed across our samples. A lower Gini index (closer to 0) means the microbes are distributed pretty evenly, while a higher value (closer to 1) tells us that some microbes are much more abundant than others."
   ]
  },
  {
   "cell_type": "code",
   "execution_count": null,
   "id": "c2e57649",
   "metadata": {},
   "outputs": [],
   "source": [
    "#calculate gini index\n",
    "\n",
    "alpha_diversity_results = alpha(table = filtered_feature_table, metric = \"gini_index\")\n",
    "gini_index = alpha_diversity_results.alpha_diversity\n",
    "\n",
    "print(gini_index)"
   ]
  },
  {
   "cell_type": "markdown",
   "id": "8658d50a",
   "metadata": {},
   "source": [
    "## Compare diversity of microbes\n",
    "\n",
    "First we load in our sample metadata. Then we create visualization to help us see if there are significant differences in the number of microbes (observed features) between these groups and saves it as a QZV file that we can view. "
   ]
  },
  {
   "cell_type": "code",
   "execution_count": null,
   "id": "a605bd6a",
   "metadata": {},
   "outputs": [],
   "source": [
    "#compare observed features within alpha diversity\n",
    "metadata = Metadata.load(\"../../Neutral Model Analysis/input/carib_merged_mapping.txt\")\n",
    "\n",
    "#get visualization of alpha group significance\n",
    "alpha_group_significance_results = alpha_group_significance(alpha_diversity = observed_features, metadata = metadata)\n",
    "observed_features_visualization = alpha_group_significance_results.visualization\n",
    "observed_features_visualization.save(\"../../Neutral Model Analysis/output/observed_features_kruskal_wallis.qzv\")\n"
   ]
  },
  {
   "cell_type": "code",
   "execution_count": null,
   "id": "93d78e43",
   "metadata": {},
   "outputs": [],
   "source": [
    "def calculate_alpha_diversity(feature_table, metrics):\n",
    "    \"\"\"Calculate multiple alpha diversity metrics for the feature table\n",
    "    \n",
    "    Parameters:\n",
    "    feature_table -- QIIME2 artifact of the feature table\n",
    "    metrics -- list of metrics to calculate\n",
    "    \n",
    "    Returns -- alpha diversity results\n",
    "    \"\"\"\n",
    "    if metrics is None:\n",
    "        metrics = ['observed_features', 'gini_index']\n",
    "    \n",
    "    alpha_diversity_results = {}\n",
    "    \n",
    "    #calculate observed features\n",
    "\n",
    "    alpha_diversity_results = alpha(table = filtered_feature_table, metric = \"observed_features\")\n",
    "    observed_features = alpha_diversity_results.alpha_diversity\n",
    "    \n",
    "    \n",
    "    #calculate gini index\n",
    "    alpha_diversity_results = alpha(table = filtered_feature_table, metric = \"gini_index\")\n",
    "    gini_index = alpha_diversity_results.alpha_diversity\n",
    "\n",
    "\n",
    "    "
   ]
  },
  {
   "cell_type": "code",
   "execution_count": null,
   "id": "6617fdfa",
   "metadata": {},
   "outputs": [],
   "source": []
  }
 ],
 "metadata": {
  "kernelspec": {
   "display_name": "Python 3 (ipykernel)",
   "language": "python",
   "name": "python3"
  },
  "language_info": {
   "codemirror_mode": {
    "name": "ipython",
    "version": 3
   },
   "file_extension": ".py",
   "mimetype": "text/x-python",
   "name": "python",
   "nbconvert_exporter": "python",
   "pygments_lexer": "ipython3",
   "version": "3.11.7"
  }
 },
 "nbformat": 4,
 "nbformat_minor": 5
}
