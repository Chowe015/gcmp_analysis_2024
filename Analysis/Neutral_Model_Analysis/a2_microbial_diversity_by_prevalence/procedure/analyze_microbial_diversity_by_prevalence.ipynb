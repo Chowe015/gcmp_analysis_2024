{
 "cells": [
  {
   "cell_type": "markdown",
   "id": "ab281137-a920-4c9a-8266-30387c223390",
   "metadata": {},
   "source": [
    "# Split feature table by distribution \n",
    "\n",
    "## Overview\n",
    "\n",
    "This notebook contains code to analyze mucus, tissue, and skeleton feature tables. To do this we are first going to split out each table to test if they are at above, below or at the prevelance and abundance predicted by neutral theory. \n",
    "The result of this first table will be 9 possible tables mucus_above, mucus_below, mucus_neutral, tissue_above, tissue_below...etc"
   ]
  },
  {
   "cell_type": "markdown",
   "id": "0318094f",
   "metadata": {},
   "source": [
    "## Import libraries"
   ]
  },
  {
   "cell_type": "code",
   "execution_count": 1,
   "id": "1c15ef25",
   "metadata": {},
   "outputs": [],
   "source": [
    "import matplotlib.pyplot as plt\n",
    "import numpy as np\n",
    "from qiime2 import Artifact\n",
    "from os import listdir\n",
    "import pandas as pd\n",
    "from qiime2 import Metadata\n",
    "from qiime2.plugins.diversity.visualizers import alpha_group_significance\n",
    "from qiime2.plugins.feature_table.methods import filter_features\n",
    "from qiime2.plugins.diversity.pipelines import alpha\n",
    "from qiime2.plugins.feature_table.methods import filter_features_conditionally\n",
    "from qiime2.plugins.feature_table.methods import merge\n",
    "import qiime2.plugins.feature_table.actions as feature_table_actions"
   ]
  },
  {
   "cell_type": "markdown",
   "id": "77d6603b",
   "metadata": {},
   "source": [
    "## Load data and metadata"
   ]
  },
  {
   "cell_type": "code",
   "execution_count": 3,
   "id": "a20ddde7",
   "metadata": {},
   "outputs": [
    {
     "name": "stdout",
     "output_type": "stream",
     "text": [
      "About to load the feature table\n",
      "Done\n",
      "About to load the metadata table\n",
      "Done\n",
      "Done\n",
      "\u001b[32mImported ../output/M_rarefied_table_index_renamed.biom as BIOMV100Format to ../output/M_rarefied_table.qza\u001b[0m\n",
      "\u001b[0m\u001b[32mResult ../output/M_rarefied_table.qza appears to be valid at level=max.\u001b[0m\n",
      "\u001b[0mDone\n",
      "\u001b[32mImported ../output/T_rarefied_table_index_renamed.biom as BIOMV100Format to ../output/T_rarefied_table.qza\u001b[0m\n",
      "\u001b[0m\u001b[32mResult ../output/T_rarefied_table.qza appears to be valid at level=max.\u001b[0m\n",
      "\u001b[0mDone\n",
      "\u001b[32mImported ../output/S_rarefied_table_index_renamed.biom as BIOMV100Format to ../output/S_rarefied_table.qza\u001b[0m\n",
      "\u001b[0m\u001b[32mResult ../output/S_rarefied_table.qza appears to be valid at level=max.\u001b[0m\n",
      "\u001b[0m"
     ]
    }
   ],
   "source": [
    "# Load the data\n",
    "print(\"About to load the feature table\")\n",
    "feature_table = Artifact.load(\"../../Neutral Model Analysis/input/carib_silva_merged_table.qza\")\n",
    "print(\"Done\")\n",
    "\n",
    "# Load the metadata\n",
    "print(\"About to load the metadata table\")\n",
    "metadata = Metadata.load(\"../../Neutral Model Analysis/input/carib_merged_mapping.txt\")\n",
    "print(\"Done\")\n",
    "\n",
    "#Load the data as csv files\n",
    "mucus_data = pd.read_csv(\"../input/M_rarefied_table.csv\")\n",
    "mucus_data = mucus_data.set_index(\"id\")\n",
    "mucus_data = mucus_data.rename_axis('#OTU ID')\n",
    "mucus_data.to_csv(\"../output/M_rarefied_table_index_renamed.tsv\", sep = '\\t' )\n",
    "print(\"Done\")\n",
    "mucus_data\n",
    "!biom convert --input-fp ../output/M_rarefied_table_index_renamed.tsv -o ../output/M_rarefied_table_index_renamed.biom --table-type='OTU table' --to-json\n",
    "# Turn BIOM file into QIIME 2 artifact (qza)\n",
    "!qiime tools import \\\n",
    "  --input-path ../output/M_rarefied_table_index_renamed.biom \\\n",
    "  --type 'FeatureTable[Frequency]' \\\n",
    "  --input-format BIOMV100Format \\\n",
    "  --output-path ../output/M_rarefied_table.qza\n",
    "\n",
    "# Validate QIIME 2 artifact file\n",
    "!qiime tools validate ../output/M_rarefied_table.qza\n",
    "\n",
    "#Load the data as csv files\n",
    "tissue_data = pd.read_csv(\"../input/T_rarefied_table.csv\")\n",
    "tissue_data = tissue_data.set_index(\"id\")\n",
    "tissue_data = tissue_data.rename_axis('#OTU ID')\n",
    "tissue_data.to_csv(\"../output/T_rarefied_table_index_renamed.tsv\", sep = '\\t' )\n",
    "print(\"Done\")\n",
    "tissue_data\n",
    "!biom convert --input-fp ../output/T_rarefied_table_index_renamed.tsv -o ../output/T_rarefied_table_index_renamed.biom --table-type='OTU table' --to-json\n",
    "# Turn BIOM file into QIIME 2 artifact (qza)\n",
    "!qiime tools import \\\n",
    "  --input-path ../output/T_rarefied_table_index_renamed.biom \\\n",
    "  --type 'FeatureTable[Frequency]' \\\n",
    "  --input-format BIOMV100Format \\\n",
    "  --output-path ../output/T_rarefied_table.qza\n",
    "\n",
    "# Validate QIIME 2 artifact file\n",
    "!qiime tools validate ../output/T_rarefied_table.qza\n",
    "\n",
    "\n",
    "#Load the data as csv files\n",
    "skeleton_data = pd.read_csv(\"../input/S_rarefied_table.csv\")\n",
    "skeleton_data = skeleton_data.set_index(\"id\")\n",
    "skeleton_data = skeleton_data.rename_axis('#OTU ID')\n",
    "skeleton_data.to_csv(\"../output/S_rarefied_table_index_renamed.tsv\", sep = '\\t' )\n",
    "print(\"Done\")\n",
    "skeleton_data\n",
    "!biom convert --input-fp ../output/S_rarefied_table_index_renamed.tsv -o ../output/S_rarefied_table_index_renamed.biom --table-type='OTU table' --to-json\n",
    "# Turn BIOM file into QIIME 2 artifact (qza)\n",
    "!qiime tools import \\\n",
    "  --input-path ../output/S_rarefied_table_index_renamed.biom \\\n",
    "  --type 'FeatureTable[Frequency]' \\\n",
    "  --input-format BIOMV100Format \\\n",
    "  --output-path ../output/S_rarefied_table.qza\n",
    "\n",
    "# Validate QIIME 2 artifact file\n",
    "!qiime tools validate ../output/S_rarefied_table.qza"
   ]
  },
  {
   "cell_type": "markdown",
   "id": "15c3fe0b",
   "metadata": {},
   "source": [
    "## Calculating mucus alpha diversity\n",
    "\n",
    "In the next section of code we load our mucus qza file and we calculate alpha diversity."
   ]
  },
  {
   "cell_type": "code",
   "execution_count": 4,
   "id": "ef932914",
   "metadata": {},
   "outputs": [
    {
     "name": "stdout",
     "output_type": "stream",
     "text": [
      "Done\n",
      "Done\n"
     ]
    },
    {
     "name": "stderr",
     "output_type": "stream",
     "text": [
      "/home/bebefg/miniconda3/envs/qiime2-amplicon-2024.5/lib/python3.9/site-packages/skbio/util/_warning.py:60: UserWarning: observed_otus is deprecated as of 0.6.0.\n",
      "  warn(f\"{func.__name__} is deprecated as of {ver}.\")\n",
      "/home/bebefg/miniconda3/envs/qiime2-amplicon-2024.5/lib/python3.9/site-packages/q2_types/sample_data/_transformer.py:27: FutureWarning: errors='ignore' is deprecated and will raise in a future version. Use to_numeric without passing `errors` and catch exceptions explicitly instead\n",
      "  df[cols] = df[cols].apply(pd.to_numeric, errors='ignore')\n"
     ]
    },
    {
     "name": "stdout",
     "output_type": "stream",
     "text": [
      "Done\n",
      "1256-012-C121-M               0.986786\n",
      "1256-019-C123-M               0.965825\n",
      "1256-022-C127-M               0.993080\n",
      "1256-025-C128-M               0.944596\n",
      "1256-028-C129-M               0.993080\n",
      "                                ...   \n",
      "E7.6.Mon.aequ.3.20150620.M    0.948491\n",
      "E7.6.Mon.aequ.4.20150620.M    0.949207\n",
      "E7.7.Pav.vari.1.20150622.M    0.834301\n",
      "E7.7.Pav.vari.1.20150623.M    0.979678\n",
      "E7.7.Pav.vari.2.20150622.M    0.857870\n",
      "Name: gini_index, Length: 292, dtype: float64\n"
     ]
    },
    {
     "name": "stderr",
     "output_type": "stream",
     "text": [
      "/home/bebefg/miniconda3/envs/qiime2-amplicon-2024.5/lib/python3.9/site-packages/q2_types/sample_data/_transformer.py:27: FutureWarning: errors='ignore' is deprecated and will raise in a future version. Use to_numeric without passing `errors` and catch exceptions explicitly instead\n",
      "  df[cols] = df[cols].apply(pd.to_numeric, errors='ignore')\n"
     ]
    }
   ],
   "source": [
    "# Load QZA feature tables\n",
    "mucus_table = Artifact.load(\"../output/M_rarefied_table.qza\")\n",
    "\n",
    "mucus_data\n",
    "# Filter by abundance and prevalence\n",
    "filtered_mucus_result = filter_features_conditionally(table=mucus_table, abundance=0.01, prevalence=1/50)\n",
    "filtered_mucus_table = filtered_mucus_result.filtered_table\n",
    "print(\"Done\")\n",
    "\n",
    "# Further filter by min frequency and sample occurrence\n",
    "filtered_mucus_result = filter_features(table=filtered_mucus_table, min_frequency=100, min_samples=2, filter_empty_samples=True)\n",
    "filtered_mucus_table = filtered_mucus_result.filtered_table\n",
    "print(\"Done\")\n",
    "\n",
    "# Calculate observed features (species richness)\n",
    "alpha_obs_mucus_result = alpha(table=filtered_mucus_table, metric=\"observed_features\")\n",
    "observed_mucus_alpha_diversity = alpha_obs_mucus_result.alpha_diversity\n",
    "obs_mucus_alpha_diversity_df = observed_mucus_alpha_diversity.view(pd.Series)\n",
    "print(\"Done\")\n",
    "\n",
    "\n",
    "# Calculate Gini index (evenness)\n",
    "alpha_gini_mucus_result = alpha(table=filtered_mucus_table, metric=\"gini_index\")\n",
    "gini_index_mucus = alpha_gini_mucus_result.alpha_diversity\n",
    "gini_mucus_df = gini_index_mucus.view(pd.Series)\n",
    "print(\"Done\")\n",
    "\n"
   ]
  },
  {
   "cell_type": "code",
   "execution_count": 10,
   "id": "10c54b9c",
   "metadata": {},
   "outputs": [],
   "source": [
    "## next step\n",
    "##give path to the file and make a function to"
   ]
  },
  {
   "cell_type": "code",
   "execution_count": 9,
   "id": "ae6ba601",
   "metadata": {},
   "outputs": [
    {
     "name": "stdout",
     "output_type": "stream",
     "text": [
      "Done\n",
      "Done\n"
     ]
    },
    {
     "name": "stderr",
     "output_type": "stream",
     "text": [
      "/home/bebefg/miniconda3/envs/qiime2-amplicon-2024.5/lib/python3.9/site-packages/q2_types/sample_data/_transformer.py:27: FutureWarning: errors='ignore' is deprecated and will raise in a future version. Use to_numeric without passing `errors` and catch exceptions explicitly instead\n",
      "  df[cols] = df[cols].apply(pd.to_numeric, errors='ignore')\n"
     ]
    },
    {
     "name": "stdout",
     "output_type": "stream",
     "text": [
      "Done\n"
     ]
    },
    {
     "name": "stderr",
     "output_type": "stream",
     "text": [
      "/home/bebefg/miniconda3/envs/qiime2-amplicon-2024.5/lib/python3.9/site-packages/q2_types/sample_data/_transformer.py:27: FutureWarning: errors='ignore' is deprecated and will raise in a future version. Use to_numeric without passing `errors` and catch exceptions explicitly instead\n",
      "  df[cols] = df[cols].apply(pd.to_numeric, errors='ignore')\n"
     ]
    },
    {
     "name": "stdout",
     "output_type": "stream",
     "text": [
      "Done\n",
      "Done\n",
      "Done\n"
     ]
    },
    {
     "name": "stderr",
     "output_type": "stream",
     "text": [
      "/home/bebefg/miniconda3/envs/qiime2-amplicon-2024.5/lib/python3.9/site-packages/q2_types/sample_data/_transformer.py:27: FutureWarning: errors='ignore' is deprecated and will raise in a future version. Use to_numeric without passing `errors` and catch exceptions explicitly instead\n",
      "  df[cols] = df[cols].apply(pd.to_numeric, errors='ignore')\n"
     ]
    },
    {
     "name": "stdout",
     "output_type": "stream",
     "text": [
      "Done\n",
      "Done\n"
     ]
    },
    {
     "name": "stderr",
     "output_type": "stream",
     "text": [
      "/home/bebefg/miniconda3/envs/qiime2-amplicon-2024.5/lib/python3.9/site-packages/q2_types/sample_data/_transformer.py:27: FutureWarning: errors='ignore' is deprecated and will raise in a future version. Use to_numeric without passing `errors` and catch exceptions explicitly instead\n",
      "  df[cols] = df[cols].apply(pd.to_numeric, errors='ignore')\n"
     ]
    }
   ],
   "source": [
    "tissue_table = Artifact.load(\"../output/T_rarefied_table.qza\")\n",
    "skeleton_table = Artifact.load(\"../output/S_rarefied_table.qza\")\n",
    "\n",
    "\n",
    "tissue_data\n",
    "# Filter by abundance and prevalence\n",
    "filtered_tissue_result = filter_features_conditionally(table=tissue_table, abundance=0.01, prevalence=1/50)\n",
    "filtered_tissue_table = filtered_tissue_result.filtered_table\n",
    "print(\"Done\")\n",
    "\n",
    "# Further filter by min frequency and sample occurrence\n",
    "filtered_tissue_result = filter_features(table=filtered_tissue_table, min_frequency=100, min_samples=2, filter_empty_samples=True)\n",
    "filtered_tissue_table = filtered_tissue_result.filtered_table\n",
    "print(\"Done\")\n",
    "\n",
    "# Calculate observed features (species richness)\n",
    "alpha_obs_tissue_result = alpha(table=filtered_tissue_table, metric=\"observed_features\")\n",
    "observed_tissue_features = alpha_obs_tissue_result.alpha_diversity\n",
    "obs_tissue_df = observed_tissue_features.view(pd.Series)\n",
    "print(\"Done\")\n",
    "\n",
    "# Calculate Gini index (evenness)\n",
    "alpha_gini_tissue_result = alpha(table=filtered_tissue_table, metric=\"gini_index\")\n",
    "gini_tissue_index = alpha_gini_tissue_result.alpha_diversity\n",
    "gini_tissue_df = gini_tissue_index.view(pd.Series)\n",
    "print(\"Done\")\n",
    "\n",
    "\n",
    "\n",
    "skeleton_data\n",
    "# Filter by abundance and prevalence\n",
    "filtered_skeleton_result = filter_features_conditionally(table=skeleton_table, abundance=0.01, prevalence=1/50)\n",
    "filtered_skeleton_table = filtered_skeleton_result.filtered_table\n",
    "print(\"Done\")\n",
    "\n",
    "# Further filter by min frequency and sample occurrence\n",
    "filtered_skeleton_result = filter_features(table=skeleton_table, min_frequency=100, min_samples=2, filter_empty_samples=True)\n",
    "filtered_skeleton_table = filtered_skeleton_result.filtered_table\n",
    "print(\"Done\")\n",
    "\n",
    "# Calculate observed features (species richness)\n",
    "alpha_obs_skeleton_result = alpha(table=filtered_skeleton_table, metric=\"observed_features\")\n",
    "observed_skeleton_features = alpha_obs_skeleton_result.alpha_diversity\n",
    "obs_skeleton_df = observed_skeleton_features.view(pd.Series)\n",
    "print(\"Done\")\n",
    "\n",
    "# Calculate Gini index (evenness)\n",
    "alpha_gini_skeleton_result = alpha(table=filtered_skeleton_table, metric=\"gini_index\")\n",
    "gini_skeleton_index = alpha_gini_skeleton_result.alpha_diversity\n",
    "gini_skeleton_df = gini_skeleton_index.view(pd.Series)\n",
    "print(\"Done\")"
   ]
  },
  {
   "cell_type": "code",
   "execution_count": 4,
   "id": "703f28ab",
   "metadata": {},
   "outputs": [
    {
     "ename": "NameError",
     "evalue": "name 'obs_mucus_df' is not defined",
     "output_type": "error",
     "traceback": [
      "\u001b[0;31m---------------------------------------------------------------------------\u001b[0m",
      "\u001b[0;31mNameError\u001b[0m                                 Traceback (most recent call last)",
      "Cell \u001b[0;32mIn[4], line 3\u001b[0m\n\u001b[1;32m      1\u001b[0m get_ipython()\u001b[38;5;241m.\u001b[39mrun_line_magic(\u001b[38;5;124m'\u001b[39m\u001b[38;5;124mmatplotlib\u001b[39m\u001b[38;5;124m'\u001b[39m, \u001b[38;5;124m'\u001b[39m\u001b[38;5;124minline\u001b[39m\u001b[38;5;124m'\u001b[39m)\n\u001b[1;32m      2\u001b[0m \u001b[38;5;66;03m# Calculate mean richness for each sample type\u001b[39;00m\n\u001b[0;32m----> 3\u001b[0m means \u001b[38;5;241m=\u001b[39m [\u001b[43mobs_mucus_df\u001b[49m\u001b[38;5;241m.\u001b[39mmean(), obs_tissue_df\u001b[38;5;241m.\u001b[39mmean(), obs_skeleton_df\u001b[38;5;241m.\u001b[39mmean() ]\n\u001b[1;32m      5\u001b[0m \u001b[38;5;66;03m# Labels for the bars\u001b[39;00m\n\u001b[1;32m      6\u001b[0m labels \u001b[38;5;241m=\u001b[39m [\u001b[38;5;124m'\u001b[39m\u001b[38;5;124mMucus\u001b[39m\u001b[38;5;124m'\u001b[39m, \u001b[38;5;124m'\u001b[39m\u001b[38;5;124mTissue\u001b[39m\u001b[38;5;124m'\u001b[39m, \u001b[38;5;124m'\u001b[39m\u001b[38;5;124mSkeleton\u001b[39m\u001b[38;5;124m'\u001b[39m]\n",
      "\u001b[0;31mNameError\u001b[0m: name 'obs_mucus_df' is not defined"
     ]
    }
   ],
   "source": [
    "%matplotlib inline\n",
    "# Calculate mean richness for each sample type\n",
    "means = [obs_mucus_df.mean(), obs_tissue_df.mean(), obs_skeleton_df.mean() ]\n",
    "\n",
    "# Labels for the bars\n",
    "labels = ['Mucus', 'Tissue', 'Skeleton']\n",
    "\n",
    "# Plot\n",
    "plt.figure(figsize=(8, 6))\n",
    "plt.bar(labels, means)\n",
    "plt.title('Average Observed Features (Richness)')\n",
    "plt.ylabel('Observed Features')\n",
    "plt.xlabel('Sample Type')\n",
    "plt.tight_layout()\n",
    "plt.show()"
   ]
  },
  {
   "cell_type": "markdown",
   "id": "fbf7fa8d",
   "metadata": {},
   "source": [
    "## Calculate alpha diversity for mucus, skeleton, and tissue tables\n",
    "\n",
    "In the next section of code we calculate alpha diversity for feature table."
   ]
  },
  {
   "cell_type": "code",
   "execution_count": 5,
   "id": "8378289b",
   "metadata": {},
   "outputs": [],
   "source": [
    "def calc_alpha_diversity(feature_table_path, sample_type, metrics=[\"observed_features\", \"gini_index\"]):\n",
    "    \"\"\"\n",
    "    Calculate and return alpha diversity metrics for a feature table.\n",
    "    \n",
    "    Parameters:\n",
    "    - feature_table_path: str, path to the .qza file\n",
    "    - sample_type: str, name of the sample (e.g., 'tissue', 'skeleton', 'mucus')\n",
    "    - metrics: list, alpha diversity metrics to calculate\n",
    "    \n",
    "    Returns:\n",
    "    - DataFrame with sample IDs as index and metrics + sample type as columns\n",
    "    \"\"\"\n",
    "    # Load feature table\n",
    "    feature_table = Artifact.load(feature_table_path)\n",
    "\n",
    "    # Filter by abundance and prevalence\n",
    "    filtered_result = filter_features_conditionally(\n",
    "        table=feature_table, abundance=0.01, prevalence=1/50)\n",
    "    \n",
    "    filtered_table = filtered_result.filtered_table\n",
    "    print(f\"{sample_type} - Done: abundance/prevalence filtering\")\n",
    "\n",
    "    # Further filter by min frequency and sample occurrence\n",
    "    filtered_result = filter_features(\n",
    "        table=filtered_table, min_frequency=100, min_samples=2, filter_empty_samples=True)\n",
    "    \n",
    "    filtered_table = filtered_result.filtered_table\n",
    "    print(f\"{sample_type} - Done: frequency/sample filtering\")\n",
    "\n",
    "    # Collect alpha diversity results\n",
    "    alpha_results = {}\n",
    "    for metric in metrics:\n",
    "        alpha_result = alpha(table=filtered_table, metric=metric)\n",
    "        alpha_series = alpha_result.alpha_diversity.view(pd.Series)\n",
    "        alpha_results[metric] = alpha_series\n",
    "        print(f\"{sample_type} - Done: {metric}\")\n",
    "\n",
    "    # Combine into single DataFrame\n",
    "    df = pd.DataFrame(alpha_results)\n",
    "    df[\"sample_type\"] = sample_type\n",
    "    return df\n"
   ]
  },
  {
   "cell_type": "code",
   "execution_count": 7,
   "id": "3f7e1387",
   "metadata": {},
   "outputs": [
    {
     "name": "stdout",
     "output_type": "stream",
     "text": [
      "Mucus - Done: abundance/prevalence filtering\n",
      "Mucus - Done: frequency/sample filtering\n"
     ]
    },
    {
     "name": "stderr",
     "output_type": "stream",
     "text": [
      "/home/bebefg/miniconda3/envs/qiime2-amplicon-2024.5/lib/python3.9/site-packages/q2_types/sample_data/_transformer.py:27: FutureWarning: errors='ignore' is deprecated and will raise in a future version. Use to_numeric without passing `errors` and catch exceptions explicitly instead\n",
      "  df[cols] = df[cols].apply(pd.to_numeric, errors='ignore')\n"
     ]
    },
    {
     "name": "stdout",
     "output_type": "stream",
     "text": [
      "Mucus - Done: observed_features\n"
     ]
    },
    {
     "name": "stderr",
     "output_type": "stream",
     "text": [
      "/home/bebefg/miniconda3/envs/qiime2-amplicon-2024.5/lib/python3.9/site-packages/q2_types/sample_data/_transformer.py:27: FutureWarning: errors='ignore' is deprecated and will raise in a future version. Use to_numeric without passing `errors` and catch exceptions explicitly instead\n",
      "  df[cols] = df[cols].apply(pd.to_numeric, errors='ignore')\n"
     ]
    },
    {
     "name": "stdout",
     "output_type": "stream",
     "text": [
      "Mucus - Done: gini_index\n",
      "Tissue - Done: abundance/prevalence filtering\n",
      "Tissue - Done: frequency/sample filtering\n"
     ]
    },
    {
     "name": "stderr",
     "output_type": "stream",
     "text": [
      "/home/bebefg/miniconda3/envs/qiime2-amplicon-2024.5/lib/python3.9/site-packages/q2_types/sample_data/_transformer.py:27: FutureWarning: errors='ignore' is deprecated and will raise in a future version. Use to_numeric without passing `errors` and catch exceptions explicitly instead\n",
      "  df[cols] = df[cols].apply(pd.to_numeric, errors='ignore')\n"
     ]
    },
    {
     "name": "stdout",
     "output_type": "stream",
     "text": [
      "Tissue - Done: observed_features\n"
     ]
    },
    {
     "name": "stderr",
     "output_type": "stream",
     "text": [
      "/home/bebefg/miniconda3/envs/qiime2-amplicon-2024.5/lib/python3.9/site-packages/q2_types/sample_data/_transformer.py:27: FutureWarning: errors='ignore' is deprecated and will raise in a future version. Use to_numeric without passing `errors` and catch exceptions explicitly instead\n",
      "  df[cols] = df[cols].apply(pd.to_numeric, errors='ignore')\n"
     ]
    },
    {
     "name": "stdout",
     "output_type": "stream",
     "text": [
      "Tissue - Done: gini_index\n",
      "Skeleton - Done: abundance/prevalence filtering\n",
      "Skeleton - Done: frequency/sample filtering\n"
     ]
    },
    {
     "name": "stderr",
     "output_type": "stream",
     "text": [
      "/home/bebefg/miniconda3/envs/qiime2-amplicon-2024.5/lib/python3.9/site-packages/q2_types/sample_data/_transformer.py:27: FutureWarning: errors='ignore' is deprecated and will raise in a future version. Use to_numeric without passing `errors` and catch exceptions explicitly instead\n",
      "  df[cols] = df[cols].apply(pd.to_numeric, errors='ignore')\n"
     ]
    },
    {
     "name": "stdout",
     "output_type": "stream",
     "text": [
      "Skeleton - Done: observed_features\n",
      "Skeleton - Done: gini_index\n"
     ]
    },
    {
     "name": "stderr",
     "output_type": "stream",
     "text": [
      "/home/bebefg/miniconda3/envs/qiime2-amplicon-2024.5/lib/python3.9/site-packages/q2_types/sample_data/_transformer.py:27: FutureWarning: errors='ignore' is deprecated and will raise in a future version. Use to_numeric without passing `errors` and catch exceptions explicitly instead\n",
      "  df[cols] = df[cols].apply(pd.to_numeric, errors='ignore')\n"
     ]
    }
   ],
   "source": [
    "mucus_df = calc_alpha_diversity(\"../output/M_rarefied_table.qza\", \"Mucus\")\n",
    "mucus_df.to_csv(\"Mucus_alpha_diversity.csv\")\n",
    "\n",
    "tissue_df = calc_alpha_diversity(\"../output/T_rarefied_table.qza\", \"Tissue\")\n",
    "tissue_df.to_csv(\"Tisse_alpha_diversity.csv\")\n",
    "\n",
    "skeleton_df = calc_alpha_diversity(\"../output/S_rarefied_table.qza\", \"Skeleton\")\n",
    "skeleton_df.to_csv(\"Skeleton_alpha_diversity.csv\")"
   ]
  },
  {
   "cell_type": "markdown",
   "id": "4aec9233",
   "metadata": {},
   "source": [
    "## Filter feature table\n",
    "\n",
    "Filter the feature table to just microbes with a minimum abundance and prevalance.\n",
    "Our feature table has many zero counts representing microbes that are present in just a few samples.\n",
    "Therefore we want to remove rare microbes that are present in fewer than 1/50 samples, or less than 1% of the total abundance.\n",
    "\n",
    "We also filter the feature table second time to a minimum frequency of 100 counts per microbe and occurence in 2 minimum samples."
   ]
  },
  {
   "cell_type": "code",
   "execution_count": null,
   "id": "f7316f04",
   "metadata": {},
   "outputs": [],
   "source": [
    "# Apply filtering \n",
    "filtered_feature_table_results = filter_features_conditionally(table = feature_table, abundance = 0.01, prevalence = 1/50)\n",
    "filtered_feature_table = filtered_feature_table_results.filtered_table\n",
    "df = filtered_feature_table.view(pd.DataFrame)"
   ]
  },
  {
   "cell_type": "code",
   "execution_count": null,
   "id": "f30d52cd",
   "metadata": {},
   "outputs": [],
   "source": [
    "# Then apply additional feature filtering\n",
    "filtered_feature_table_results = filter_features(\n",
    "    table=filtered_feature_table,\n",
    "    min_frequency=100,  # Minimum total frequency for a feature to be retained\n",
    "    min_samples=2,      # Minimum number of samples a feature must be present in\n",
    "    filter_empty_samples=True  # Remove samples with no features after filtering    \n",
    ")\n",
    "filtered_feature_table = filtered_feature_table_results.filtered_table\n"
   ]
  },
  {
   "cell_type": "markdown",
   "id": "aa9e911d",
   "metadata": {},
   "source": [
    "## Calculate observed features\n",
    "\n",
    "We calculate the observed features(species richness) of microbes from our filtered feature table. we're counting how many different types of microbes show up in each sample. The more different types of microbes we find, the higher our diversity count."
   ]
  },
  {
   "cell_type": "code",
   "execution_count": null,
   "id": "b23166a6",
   "metadata": {},
   "outputs": [],
   "source": [
    "#calculate observed features\n",
    "\n",
    "alpha_diversity_results = alpha(table = filtered_feature_table, metric = \"observed_features\")\n",
    "observed_features = alpha_diversity_results.alpha_diversity\n",
    "\n",
    "print(observed_features)"
   ]
  },
  {
   "cell_type": "markdown",
   "id": "94872446",
   "metadata": {},
   "source": [
    "## Calculate gini index\n",
    "\n",
    "Calculate the gini index of microbes from our filtered feature table. This measures how evenly our microbes are distributed across our samples. A lower Gini index (closer to 0) means the microbes are distributed pretty evenly, while a higher value (closer to 1) tells us that some microbes are much more abundant than others."
   ]
  },
  {
   "cell_type": "code",
   "execution_count": null,
   "id": "c2e57649",
   "metadata": {},
   "outputs": [],
   "source": [
    "#calculate gini index\n",
    "\n",
    "alpha_diversity_results = alpha(table = filtered_feature_table, metric = \"gini_index\")\n",
    "gini_index = alpha_diversity_results.alpha_diversity\n",
    "\n",
    "print(gini_index)"
   ]
  },
  {
   "cell_type": "markdown",
   "id": "8658d50a",
   "metadata": {},
   "source": [
    "## Compare diversity of microbes\n",
    "\n",
    "First we load in our sample metadata. Then we create visualization to help us see if there are significant differences in the number of microbes (observed features) between these groups and saves it as a QZV file that we can view. "
   ]
  },
  {
   "cell_type": "code",
   "execution_count": null,
   "id": "a605bd6a",
   "metadata": {},
   "outputs": [],
   "source": [
    "#compare observed features within alpha diversity\n",
    "metadata = Metadata.load(\"../../Neutral Model Analysis/input/carib_merged_mapping.txt\")\n",
    "\n",
    "#get visualization of alpha group significance\n",
    "alpha_group_significance_results = alpha_group_significance(alpha_diversity = observed_features, metadata = metadata)\n",
    "observed_features_visualization = alpha_group_significance_results.visualization\n",
    "observed_features_visualization.save(\"../../Neutral Model Analysis/output/observed_features_kruskal_wallis.qzv\")\n"
   ]
  },
  {
   "cell_type": "code",
   "execution_count": null,
   "id": "93d78e43",
   "metadata": {},
   "outputs": [],
   "source": [
    "def calculate_alpha_diversity(feature_table, metrics):\n",
    "    \"\"\"Calculate multiple alpha diversity metrics for the feature table\n",
    "    \n",
    "    Parameters:\n",
    "    feature_table -- QIIME2 artifact of the feature table\n",
    "    metrics -- list of metrics to calculate\n",
    "    \n",
    "    Returns -- alpha diversity results\n",
    "    \"\"\"\n",
    "    if metrics is None:\n",
    "        metrics = ['observed_features', 'gini_index']\n",
    "    \n",
    "    alpha_diversity_results = {}\n",
    "    \n",
    "    #calculate observed features\n",
    "\n",
    "    alpha_diversity_results = alpha(table = filtered_feature_table, metric = \"observed_features\")\n",
    "    observed_features = alpha_diversity_results.alpha_diversity\n",
    "    \n",
    "    \n",
    "    #calculate gini index\n",
    "    alpha_diversity_results = alpha(table = filtered_feature_table, metric = \"gini_index\")\n",
    "    gini_index = alpha_diversity_results.alpha_diversity\n",
    "\n",
    "\n",
    "    "
   ]
  },
  {
   "cell_type": "markdown",
   "id": "784c74c9",
   "metadata": {},
   "source": [
    "## Analyze combined microbial taxonomy \n",
    "\n",
    "First we load our data and convert it from csv to qza format"
   ]
  },
  {
   "cell_type": "code",
   "execution_count": 8,
   "id": "6617fdfa",
   "metadata": {},
   "outputs": [
    {
     "name": "stdout",
     "output_type": "stream",
     "text": [
      "Done\n",
      "\u001b[32mImported ../output/mucus_combined_table.biom as BIOMV100Format to ../output/mucus_combined_table.qza\u001b[0m\n",
      "\u001b[0m\u001b[32mResult ../output/mucus_combined_table.qza appears to be valid at level=max.\u001b[0m\n",
      "\u001b[0m"
     ]
    }
   ],
   "source": [
    "#Load the data as csv files\n",
    "mucus_combined_table = pd.read_csv(\"../input/Mucus_combinded_table.csv\") \n",
    "mucus_combined_table = mucus_combined_table.set_index(\"id\")\n",
    "mucus_combined_table = mucus_combined_table.rename_axis('#OTU ID')\n",
    "mucus_combined_table.to_csv(\"../output/mucus_combined_table_index_renamed.tsv\", sep = '\\t' )\n",
    "print(\"Done\")\n",
    "mucus_combined_table\n",
    "!biom convert --input-fp ../output/mucus_combined_table_index_renamed.tsv -o ../output/mucus_combined_table.biom --table-type='OTU table' --to-json\n",
    "\n",
    "# Turn BIOM file into QIIME 2 artifact (qza)\n",
    "!qiime tools import \\\n",
    "  --input-path ../output/mucus_combined_table.biom \\\n",
    "  --type 'FeatureTable[Frequency]' \\\n",
    "  --input-format BIOMV100Format \\\n",
    "  --output-path ../output/mucus_combined_table.qza\n",
    "\n",
    "#validate QIIME 2 artifact file\n",
    "!qiime tools validate ../output/mucus_combined_table.qza"
   ]
  },
  {
   "cell_type": "code",
   "execution_count": 24,
   "id": "a9de99b2",
   "metadata": {},
   "outputs": [
    {
     "data": {
      "text/plain": [
       "['Mucus_above_mapping.csv',\n",
       " 'Mucus_above_table.tsv',\n",
       " 'Mucus_above_taxonomy.tsv',\n",
       " 'Mucus_below_mapping.csv',\n",
       " 'Mucus_below_table.tsv',\n",
       " 'Mucus_below_taxonomy.tsv',\n",
       " 'Mucus_combinded_table.csv',\n",
       " 'Mucus_neutral_table.tsv',\n",
       " 'Mucus_neutral_taxonomy.tsv',\n",
       " 'Mucus_qiime_neutral_mapping.csv',\n",
       " 'Mucus_qiime_neutral_taxonomy.csv',\n",
       " 'Skeleton_above_mapping.csv',\n",
       " 'Skeleton_above_table.tsv',\n",
       " 'Skeleton_above_taxonomy.tsv',\n",
       " 'Skeleton_below_mapping.csv',\n",
       " 'Skeleton_below_table.tsv',\n",
       " 'Skeleton_below_taxonomy.tsv',\n",
       " 'Skeleton_combinded_table.csv',\n",
       " 'Skeleton_neutral_table.tsv',\n",
       " 'Skeleton_neutral_taxonomy.tsv',\n",
       " 'Skeleton_qiime_neutral_mapping.csv',\n",
       " 'Skeleton_qiime_neutral_taxonomy.csv',\n",
       " 'Tissue_above_mapping.csv',\n",
       " 'Tissue_above_table.tsv',\n",
       " 'Tissue_above_taxonomy.tsv',\n",
       " 'Tissue_below_mapping.csv',\n",
       " 'Tissue_below_table.tsv',\n",
       " 'Tissue_below_taxonomy.tsv',\n",
       " 'Tissue_combinded_table.csv',\n",
       " 'Tissue_neutral_table.tsv',\n",
       " 'Tissue_neutral_taxonomy.tsv',\n",
       " 'Tissue_qiime_neutral_mapping.csv',\n",
       " 'Tissue_qiime_neutral_taxonomy.csv']"
      ]
     },
     "execution_count": 24,
     "metadata": {},
     "output_type": "execute_result"
    }
   ],
   "source": [
    "listdir(\"../input\")"
   ]
  },
  {
   "cell_type": "markdown",
   "id": "18b8eecb",
   "metadata": {},
   "source": [
    "## Test prevalence differences across compartments\n",
    "\n",
    "we merged the tables by compartments to analyze if prevalence is different across compartments."
   ]
  },
  {
   "cell_type": "code",
   "execution_count": 9,
   "id": "a2d95ca7",
   "metadata": {},
   "outputs": [
    {
     "name": "stdout",
     "output_type": "stream",
     "text": [
      "Converted ../input/Mucus_above_table.tsv to ../input/Mucus_above_table.csv\n",
      "Converted ../input/Mucus_below_table.tsv to ../input/Mucus_below_table.csv\n",
      "Converted ../input/Mucus_neutral_table.tsv to ../input/Mucus_neutral_table.csv\n",
      "Converted ../input/Tissue_above_table.tsv to ../input/Tissue_above_table.csv\n",
      "Converted ../input/Tissue_below_table.tsv to ../input/Tissue_below_table.csv\n",
      "Converted ../input/Tissue_neutral_table.tsv to ../input/Tissue_neutral_table.csv\n",
      "Converted ../input/Skeleton_above_table.tsv to ../input/Skeleton_above_table.csv\n",
      "Converted ../input/Skeleton_below_table.tsv to ../input/Skeleton_below_table.csv\n",
      "Converted ../input/Skeleton_neutral_table.tsv to ../input/Skeleton_neutral_table.csv\n",
      "Mucus_above\n",
      "../input/Mucus_above_table.csv\n",
      "Index(['id', '1256-012-C121-M_above', '1256-019-C123-M_above',\n",
      "       '1256-022-C127-M_above', '1256-025-C128-M_above',\n",
      "       '1256-028-C129-M_above', '1256-040-C143-M_above',\n",
      "       '1256-043-C144-M_above', '1256-046-C145-M_above',\n",
      "       '1256-049-C148-M_above',\n",
      "       ...\n",
      "       'E7.6.Acr.hyac.1.20150622.M_above', 'E7.6.Acr.hyac.2.20150622.M_above',\n",
      "       'E7.6.Acr.hyac.3.20150622.M_above', 'E7.6.Mon.aequ.1.20150620.M_above',\n",
      "       'E7.6.Mon.aequ.2.20150620.M_above', 'E7.6.Mon.aequ.3.20150620.M_above',\n",
      "       'E7.6.Mon.aequ.4.20150620.M_above', 'E7.7.Pav.vari.1.20150622.M_above',\n",
      "       'E7.7.Pav.vari.1.20150623.M_above', 'E7.7.Pav.vari.2.20150622.M_above'],\n",
      "      dtype='object', length=299)\n",
      "../output/Mucus_above_table_index_renamed.tsv\n",
      "# Turn BIOM file into QIIME 2 artifact (qza) for Mucus_above\n",
      "\u001b[32mImported ../output/Mucus_above_table.biom as BIOMV100Format to ../output/Mucus_above_feature_table.qza\u001b[0m\n",
      "\u001b[0mValidating QIIME 2 artifact: ../output/Mucus_above_feature_table.qza\n",
      "\u001b[32mResult ../output/Mucus_above_feature_table.qza appears to be valid at level=max.\u001b[0m\n",
      "\u001b[0mMucus_below\n",
      "../input/Mucus_below_table.csv\n",
      "Index(['id', '1256-012-C121-M_below', '1256-019-C123-M_below',\n",
      "       '1256-022-C127-M_below', '1256-025-C128-M_below',\n",
      "       '1256-028-C129-M_below', '1256-040-C143-M_below',\n",
      "       '1256-043-C144-M_below', '1256-046-C145-M_below',\n",
      "       '1256-049-C148-M_below',\n",
      "       ...\n",
      "       'E7.6.Acr.hyac.1.20150622.M_below', 'E7.6.Acr.hyac.2.20150622.M_below',\n",
      "       'E7.6.Acr.hyac.3.20150622.M_below', 'E7.6.Mon.aequ.1.20150620.M_below',\n",
      "       'E7.6.Mon.aequ.2.20150620.M_below', 'E7.6.Mon.aequ.3.20150620.M_below',\n",
      "       'E7.6.Mon.aequ.4.20150620.M_below', 'E7.7.Pav.vari.1.20150622.M_below',\n",
      "       'E7.7.Pav.vari.1.20150623.M_below', 'E7.7.Pav.vari.2.20150622.M_below'],\n",
      "      dtype='object', length=299)\n",
      "../output/Mucus_below_table_index_renamed.tsv\n",
      "# Turn BIOM file into QIIME 2 artifact (qza) for Mucus_below\n",
      "\u001b[32mImported ../output/Mucus_below_table.biom as BIOMV100Format to ../output/Mucus_below_feature_table.qza\u001b[0m\n",
      "\u001b[0mValidating QIIME 2 artifact: ../output/Mucus_below_feature_table.qza\n",
      "\u001b[32mResult ../output/Mucus_below_feature_table.qza appears to be valid at level=max.\u001b[0m\n",
      "\u001b[0mMucus_neutral\n",
      "../input/Mucus_neutral_table.csv\n",
      "Index(['id', '1256-012-C121-M_neutral', '1256-019-C123-M_neutral',\n",
      "       '1256-022-C127-M_neutral', '1256-025-C128-M_neutral',\n",
      "       '1256-028-C129-M_neutral', '1256-040-C143-M_neutral',\n",
      "       '1256-043-C144-M_neutral', '1256-046-C145-M_neutral',\n",
      "       '1256-049-C148-M_neutral',\n",
      "       ...\n",
      "       'E7.6.Acr.hyac.1.20150622.M_neutral',\n",
      "       'E7.6.Acr.hyac.2.20150622.M_neutral',\n",
      "       'E7.6.Acr.hyac.3.20150622.M_neutral',\n",
      "       'E7.6.Mon.aequ.1.20150620.M_neutral',\n",
      "       'E7.6.Mon.aequ.2.20150620.M_neutral',\n",
      "       'E7.6.Mon.aequ.3.20150620.M_neutral',\n",
      "       'E7.6.Mon.aequ.4.20150620.M_neutral',\n",
      "       'E7.7.Pav.vari.1.20150622.M_neutral',\n",
      "       'E7.7.Pav.vari.1.20150623.M_neutral',\n",
      "       'E7.7.Pav.vari.2.20150622.M_neutral'],\n",
      "      dtype='object', length=299)\n",
      "../output/Mucus_neutral_table_index_renamed.tsv\n",
      "# Turn BIOM file into QIIME 2 artifact (qza) for Mucus_neutral\n",
      "\u001b[32mImported ../output/Mucus_neutral_table.biom as BIOMV100Format to ../output/Mucus_neutral_feature_table.qza\u001b[0m\n",
      "\u001b[0mValidating QIIME 2 artifact: ../output/Mucus_neutral_feature_table.qza\n",
      "\u001b[32mResult ../output/Mucus_neutral_feature_table.qza appears to be valid at level=max.\u001b[0m\n",
      "\u001b[0mTissue_above\n",
      "../input/Tissue_above_table.csv\n",
      "Index(['id', '1256-008-C119-T_above', '1256-011-C120-T_above',\n",
      "       '1256-014-C121-T_above', '1256-018-C122-T_above',\n",
      "       '1256-024-C127-T_above', '1256-027-C128-T_above',\n",
      "       '1256-030-C129-T_above', '1256-032-C132-T_above',\n",
      "       '1256-036-C133-T_above',\n",
      "       ...\n",
      "       'E7.5.Gal.fasc.1.20150622.T_above', 'E7.6.Acr.hyac.1.20150622.T_above',\n",
      "       'E7.6.Acr.hyac.2.20150622.T_above', 'E7.6.Acr.hyac.3.20150622.T_above',\n",
      "       'E7.6.Mon.aequ.1.20150620.T_above', 'E7.6.Mon.aequ.2.20150620.T_above',\n",
      "       'E7.6.Mon.aequ.3.20150620.T_above', 'E7.6.Mon.aequ.4.20150620.T_above',\n",
      "       'E7.7.Pav.vari.1.20150623.T_above', 'E7.7.Pav.vari.2.20150622.T_above'],\n",
      "      dtype='object', length=255)\n",
      "../output/Tissue_above_table_index_renamed.tsv\n",
      "# Turn BIOM file into QIIME 2 artifact (qza) for Tissue_above\n",
      "\u001b[32mImported ../output/Tissue_above_table.biom as BIOMV100Format to ../output/Tissue_above_feature_table.qza\u001b[0m\n",
      "\u001b[0mValidating QIIME 2 artifact: ../output/Tissue_above_feature_table.qza\n",
      "\u001b[32mResult ../output/Tissue_above_feature_table.qza appears to be valid at level=max.\u001b[0m\n",
      "\u001b[0mTissue_below\n",
      "../input/Tissue_below_table.csv\n",
      "Index(['id', '1256-008-C119-T_below', '1256-011-C120-T_below',\n",
      "       '1256-014-C121-T_below', '1256-018-C122-T_below',\n",
      "       '1256-024-C127-T_below', '1256-027-C128-T_below',\n",
      "       '1256-030-C129-T_below', '1256-032-C132-T_below',\n",
      "       '1256-036-C133-T_below',\n",
      "       ...\n",
      "       'E7.5.Gal.fasc.1.20150622.T_below', 'E7.6.Acr.hyac.1.20150622.T_below',\n",
      "       'E7.6.Acr.hyac.2.20150622.T_below', 'E7.6.Acr.hyac.3.20150622.T_below',\n",
      "       'E7.6.Mon.aequ.1.20150620.T_below', 'E7.6.Mon.aequ.2.20150620.T_below',\n",
      "       'E7.6.Mon.aequ.3.20150620.T_below', 'E7.6.Mon.aequ.4.20150620.T_below',\n",
      "       'E7.7.Pav.vari.1.20150623.T_below', 'E7.7.Pav.vari.2.20150622.T_below'],\n",
      "      dtype='object', length=255)\n",
      "../output/Tissue_below_table_index_renamed.tsv\n",
      "# Turn BIOM file into QIIME 2 artifact (qza) for Tissue_below\n",
      "\u001b[32mImported ../output/Tissue_below_table.biom as BIOMV100Format to ../output/Tissue_below_feature_table.qza\u001b[0m\n",
      "\u001b[0mValidating QIIME 2 artifact: ../output/Tissue_below_feature_table.qza\n",
      "\u001b[32mResult ../output/Tissue_below_feature_table.qza appears to be valid at level=max.\u001b[0m\n",
      "\u001b[0mTissue_neutral\n",
      "../input/Tissue_neutral_table.csv\n",
      "Index(['id', '1256-008-C119-T_neutral', '1256-011-C120-T_neutral',\n",
      "       '1256-014-C121-T_neutral', '1256-018-C122-T_neutral',\n",
      "       '1256-024-C127-T_neutral', '1256-027-C128-T_neutral',\n",
      "       '1256-030-C129-T_neutral', '1256-032-C132-T_neutral',\n",
      "       '1256-036-C133-T_neutral',\n",
      "       ...\n",
      "       'E7.5.Gal.fasc.1.20150622.T_neutral',\n",
      "       'E7.6.Acr.hyac.1.20150622.T_neutral',\n",
      "       'E7.6.Acr.hyac.2.20150622.T_neutral',\n",
      "       'E7.6.Acr.hyac.3.20150622.T_neutral',\n",
      "       'E7.6.Mon.aequ.1.20150620.T_neutral',\n",
      "       'E7.6.Mon.aequ.2.20150620.T_neutral',\n",
      "       'E7.6.Mon.aequ.3.20150620.T_neutral',\n",
      "       'E7.6.Mon.aequ.4.20150620.T_neutral',\n",
      "       'E7.7.Pav.vari.1.20150623.T_neutral',\n",
      "       'E7.7.Pav.vari.2.20150622.T_neutral'],\n",
      "      dtype='object', length=255)\n",
      "../output/Tissue_neutral_table_index_renamed.tsv\n",
      "# Turn BIOM file into QIIME 2 artifact (qza) for Tissue_neutral\n",
      "\u001b[32mImported ../output/Tissue_neutral_table.biom as BIOMV100Format to ../output/Tissue_neutral_feature_table.qza\u001b[0m\n",
      "\u001b[0mValidating QIIME 2 artifact: ../output/Tissue_neutral_feature_table.qza\n",
      "\u001b[32mResult ../output/Tissue_neutral_feature_table.qza appears to be valid at level=max.\u001b[0m\n",
      "\u001b[0mSkeleton_above\n",
      "../input/Skeleton_above_table.csv\n",
      "Index(['id', '1256-004-C118-S_above', '1256-007-C119-S_above',\n",
      "       '1256-010-C120-S_above', '1256-013-C121-S_above',\n",
      "       '1256-016-C122-S_above', '1256-020-C123-S_above',\n",
      "       '1256-023-C127-S_above', '1256-026-C128-S_above',\n",
      "       '1256-029-C129-S_above',\n",
      "       ...\n",
      "       'E7.5.Gal.fasc.1.20150622.S_above', 'E7.6.Acr.hyac.1.20150622.S_above',\n",
      "       'E7.6.Acr.hyac.2.20150622.S_above', 'E7.6.Acr.hyac.3.20150622.S_above',\n",
      "       'E7.6.Mon.aequ.1.20150620.S_above', 'E7.6.Mon.aequ.2.20150620.S_above',\n",
      "       'E7.6.Mon.aequ.3.20150620.S_above', 'E7.6.Mon.aequ.4.20150620.S_above',\n",
      "       'E7.7.Pav.vari.1.20150623.S_above', 'E7.7.Pav.vari.2.20150622.S_above'],\n",
      "      dtype='object', length=254)\n"
     ]
    },
    {
     "name": "stdout",
     "output_type": "stream",
     "text": [
      "../output/Skeleton_above_table_index_renamed.tsv\n",
      "# Turn BIOM file into QIIME 2 artifact (qza) for Skeleton_above\n",
      "\u001b[32mImported ../output/Skeleton_above_table.biom as BIOMV100Format to ../output/Skeleton_above_feature_table.qza\u001b[0m\n",
      "\u001b[0mValidating QIIME 2 artifact: ../output/Skeleton_above_feature_table.qza\n",
      "\u001b[32mResult ../output/Skeleton_above_feature_table.qza appears to be valid at level=max.\u001b[0m\n",
      "\u001b[0mSkeleton_below\n",
      "../input/Skeleton_below_table.csv\n",
      "Index(['id', '1256-004-C118-S_below', '1256-007-C119-S_below',\n",
      "       '1256-010-C120-S_below', '1256-013-C121-S_below',\n",
      "       '1256-016-C122-S_below', '1256-020-C123-S_below',\n",
      "       '1256-023-C127-S_below', '1256-026-C128-S_below',\n",
      "       '1256-029-C129-S_below',\n",
      "       ...\n",
      "       'E7.5.Gal.fasc.1.20150622.S_below', 'E7.6.Acr.hyac.1.20150622.S_below',\n",
      "       'E7.6.Acr.hyac.2.20150622.S_below', 'E7.6.Acr.hyac.3.20150622.S_below',\n",
      "       'E7.6.Mon.aequ.1.20150620.S_below', 'E7.6.Mon.aequ.2.20150620.S_below',\n",
      "       'E7.6.Mon.aequ.3.20150620.S_below', 'E7.6.Mon.aequ.4.20150620.S_below',\n",
      "       'E7.7.Pav.vari.1.20150623.S_below', 'E7.7.Pav.vari.2.20150622.S_below'],\n",
      "      dtype='object', length=254)\n",
      "../output/Skeleton_below_table_index_renamed.tsv\n",
      "# Turn BIOM file into QIIME 2 artifact (qza) for Skeleton_below\n",
      "\u001b[32mImported ../output/Skeleton_below_table.biom as BIOMV100Format to ../output/Skeleton_below_feature_table.qza\u001b[0m\n",
      "\u001b[0mValidating QIIME 2 artifact: ../output/Skeleton_below_feature_table.qza\n",
      "\u001b[32mResult ../output/Skeleton_below_feature_table.qza appears to be valid at level=max.\u001b[0m\n",
      "\u001b[0mSkeleton_neutral\n",
      "../input/Skeleton_neutral_table.csv\n",
      "Index(['id', '1256-004-C118-S_neutral', '1256-007-C119-S_neutral',\n",
      "       '1256-010-C120-S_neutral', '1256-013-C121-S_neutral',\n",
      "       '1256-016-C122-S_neutral', '1256-020-C123-S_neutral',\n",
      "       '1256-023-C127-S_neutral', '1256-026-C128-S_neutral',\n",
      "       '1256-029-C129-S_neutral',\n",
      "       ...\n",
      "       'E7.5.Gal.fasc.1.20150622.S_neutral',\n",
      "       'E7.6.Acr.hyac.1.20150622.S_neutral',\n",
      "       'E7.6.Acr.hyac.2.20150622.S_neutral',\n",
      "       'E7.6.Acr.hyac.3.20150622.S_neutral',\n",
      "       'E7.6.Mon.aequ.1.20150620.S_neutral',\n",
      "       'E7.6.Mon.aequ.2.20150620.S_neutral',\n",
      "       'E7.6.Mon.aequ.3.20150620.S_neutral',\n",
      "       'E7.6.Mon.aequ.4.20150620.S_neutral',\n",
      "       'E7.7.Pav.vari.1.20150623.S_neutral',\n",
      "       'E7.7.Pav.vari.2.20150622.S_neutral'],\n",
      "      dtype='object', length=254)\n",
      "../output/Skeleton_neutral_table_index_renamed.tsv\n",
      "# Turn BIOM file into QIIME 2 artifact (qza) for Skeleton_neutral\n",
      "\u001b[32mImported ../output/Skeleton_neutral_table.biom as BIOMV100Format to ../output/Skeleton_neutral_feature_table.qza\u001b[0m\n",
      "\u001b[0mValidating QIIME 2 artifact: ../output/Skeleton_neutral_feature_table.qza\n",
      "\u001b[32mResult ../output/Skeleton_neutral_feature_table.qza appears to be valid at level=max.\u001b[0m\n",
      "\u001b[0m"
     ]
    }
   ],
   "source": [
    "compartments = [\"Mucus\", \"Tissue\", \"Skeleton\"]\n",
    "categories = [\"above\", \"below\", \"neutral\"]\n",
    "\n",
    "# Convert TSV to CSV first\n",
    "for compartment in compartments:\n",
    "    for category in categories:\n",
    "        input_tsv = f\"../input/{compartment}_{category}_table.tsv\"\n",
    "        output_csv = f\"../input/{compartment}_{category}_table.csv\"\n",
    "        tsv_data = pd.read_csv(input_tsv, sep='\\t')\n",
    "        tsv_data.to_csv(output_csv, index=False)\n",
    "        print(f\"Converted {input_tsv} to {output_csv}\")\n",
    "\n",
    "for compartment in compartments:\n",
    "    for category in categories:\n",
    "        print(f\"{compartment}_{category}\")\n",
    "        input_csv = f\"../input/{compartment}_{category}_table.csv\"\n",
    "        print(input_csv)\n",
    "        comp_cat_table = pd.read_csv(input_csv, sep=',')\n",
    "        print(comp_cat_table.columns)\n",
    "        comp_cat_table = comp_cat_table.set_index (\"id\")\n",
    "        comp_cat_table = comp_cat_table.rename_axis(\"#OTU ID\")\n",
    "        output_csv = f\"../output/{compartment}_{category}_table_index_renamed.tsv\"\n",
    "        comp_cat_table.to_csv(output_csv, sep = '\\t' )\n",
    "        print(output_csv)\n",
    "        output_biom = f\"../output/{compartment}_{category}_table.biom\"\n",
    "        !biom convert --input-fp $output_csv -o $output_biom --table-type='OTU table' --to-json\n",
    "    \n",
    "        # Turn BIOM file into QIIME 2 artifact (qza)\n",
    "        print(f\"# Turn BIOM file into QIIME 2 artifact (qza) for {compartment}_{category}\")\n",
    "        output_qza = f\"../output/{compartment}_{category}_feature_table.qza\"\n",
    "        !qiime tools import \\\n",
    "          --input-path {output_biom} \\\n",
    "          --type 'FeatureTable[Frequency]' \\\n",
    "          --input-format BIOMV100Format \\\n",
    "          --output-path {output_qza}\n",
    "   \n",
    "    \n",
    "        # Validate the QIIME 2 artifact\n",
    "        print(f\"Validating QIIME 2 artifact: {output_qza}\")\n",
    "        !qiime tools validate {output_qza}\n"
   ]
  },
  {
   "cell_type": "code",
   "execution_count": 8,
   "id": "e0ad37a5",
   "metadata": {},
   "outputs": [
    {
     "data": {
      "text/plain": [
       "['Mucus_alpha_diversity.csv',\n",
       " 'Mucus_combined_table.biom',\n",
       " 'mucus_combined_table.qza',\n",
       " 'Mucus_combined_table_index_renamed.tsv',\n",
       " 'Mucus_feature_table.qza',\n",
       " 'Mucus_neutral_feature_table.qza',\n",
       " 'Mucus_neutral_table.biom',\n",
       " 'Mucus_neutral_table_index_renamed.tsv',\n",
       " 'Skeleton_alpha_diversity.csv',\n",
       " 'Skeleton_combined_table.biom',\n",
       " 'Skeleton_combined_table_index_renamed.tsv',\n",
       " 'Skeleton_feature_table.qza',\n",
       " 'Skeleton_neutral_feature_table.qza',\n",
       " 'Skeleton_neutral_table.biom',\n",
       " 'Skeleton_neutral_table_index_renamed.tsv',\n",
       " 'Tissue_alpha_diversity.csv',\n",
       " 'Tissue_combined_table.biom',\n",
       " 'Tissue_combined_table_index_renamed.tsv',\n",
       " 'Tissue_feature_table.qza',\n",
       " 'Tissue_neutral_feature_table.qza',\n",
       " 'Tissue_neutral_table.biom',\n",
       " 'Tissue_neutral_table_index_renamed.tsv']"
      ]
     },
     "execution_count": 8,
     "metadata": {},
     "output_type": "execute_result"
    }
   ],
   "source": [
    "listdir(\"../output/\")"
   ]
  },
  {
   "cell_type": "markdown",
   "id": "b18bfe5b",
   "metadata": {},
   "source": [
    "## Merge feature tables across compartments and categories\n",
    "\n",
    "Here we merge feature tables across compartments and categories. Our goal is to return a combined metadata file to allow us to compare alpha diversity and other parameters across categories. "
   ]
  },
  {
   "cell_type": "code",
   "execution_count": null,
   "id": "cce84f2e",
   "metadata": {},
   "outputs": [],
   "source": [
    "compartments = [\"Mucus\", \"Tissue\", \"Skeleton\"]\n",
    "categories = [\"neutral\", \"above\", \"below\"]\n",
    "merged_table = None\n",
    "for category in categories:\n",
    "    for compartment in compartments:\n",
    "        print(f\"my compartment is {compartment} and my category is {category}\")\n",
    "        input_table = f\"../output/{compartment}_{category}_feature_table.qza\"\n",
    "        compartment_table = Artifact.load(input_table)\n",
    "        \n",
    "        \n",
    "        if merged_table is None:\n",
    "            merged_table = compartment_table\n",
    "            continue \n",
    "        \n",
    "        #merge tables using sum method\n",
    "        merged_result = merge(\n",
    "        tables = [compartment_table, merged_table],\n",
    "        overlap_method='sum')\n",
    "        \n",
    "        print(f\"Merged table results {merged_result}:\")\n",
    "        \n",
    "        merged_table = merged_result.merged_table\n",
    "        \n",
    "        print(merged_result.merged_table)\n",
    "        \n",
    "merged_table.save(\"../output/all_compartment_category_feature_table.qza\")\n",
    " "
   ]
  },
  {
   "cell_type": "markdown",
   "id": "589d65d9",
   "metadata": {},
   "source": [
    "## Summarize all compartment feature table\n",
    "\n",
    "Visualize the table from last step. "
   ]
  },
  {
   "cell_type": "code",
   "execution_count": 12,
   "id": "c7311443",
   "metadata": {},
   "outputs": [
    {
     "name": "stdout",
     "output_type": "stream",
     "text": [
      "Summarizing the feature table...\n"
     ]
    },
    {
     "name": "stderr",
     "output_type": "stream",
     "text": [
      "/home/bebefg/miniconda3/envs/qiime2-amplicon-2024.5/lib/python3.9/site-packages/seaborn/_oldcore.py:1119: FutureWarning: use_inf_as_na option is deprecated and will be removed in a future version. Convert inf values to NaN before operating instead.\n",
      "  with pd.option_context('mode.use_inf_as_na', True):\n",
      "/home/bebefg/miniconda3/envs/qiime2-amplicon-2024.5/lib/python3.9/site-packages/seaborn/_oldcore.py:1119: FutureWarning: use_inf_as_na option is deprecated and will be removed in a future version. Convert inf values to NaN before operating instead.\n",
      "  with pd.option_context('mode.use_inf_as_na', True):\n"
     ]
    },
    {
     "name": "stdout",
     "output_type": "stream",
     "text": [
      "<visualization: Visualization uuid: a4deeec3-d9c9-4637-bfab-97b5d17a470a>\n"
     ]
    },
    {
     "data": {
      "text/plain": [
       "'../output/all_compartment_category_feature_table_summary.qzv'"
      ]
     },
     "execution_count": 12,
     "metadata": {},
     "output_type": "execute_result"
    }
   ],
   "source": [
    "# Summarize the feature table\n",
    "print(\"Summarizing the feature table...\")\n",
    "summary_result, = feature_table_actions.summarize(\n",
    "    table= merged_table\n",
    ")\n",
    "\n",
    "print(summary_result)\n",
    "\n",
    "summary_result.save(\"../output/all_compartment_category_feature_table_summary.qzv\")"
   ]
  },
  {
   "cell_type": "markdown",
   "id": "399e6ed7",
   "metadata": {},
   "source": [
    "## Create a combined metadata file across compartments and categories\n",
    "\n",
    "Here we load our metadata for each compartment and category in order to combine them into a single QIIME2 metadata file. "
   ]
  },
  {
   "cell_type": "code",
   "execution_count": 6,
   "id": "0682fb99",
   "metadata": {},
   "outputs": [
    {
     "name": "stdout",
     "output_type": "stream",
     "text": [
      "About to load the feature table\n"
     ]
    },
    {
     "ename": "ValueError",
     "evalue": "Archive does not contain a correctly formatted VERSION file.",
     "output_type": "error",
     "traceback": [
      "\u001b[0;31m---------------------------------------------------------------------------\u001b[0m",
      "\u001b[0;31mFileNotFoundError\u001b[0m                         Traceback (most recent call last)",
      "File \u001b[0;32m~/miniconda3/envs/qiime2-amplicon-2024.5/lib/python3.9/site-packages/qiime2/core/archive/archiver.py:118\u001b[0m, in \u001b[0;36m_Archive._get_versions\u001b[0;34m(self)\u001b[0m\n\u001b[1;32m    117\u001b[0m \u001b[38;5;28;01mtry\u001b[39;00m:\n\u001b[0;32m--> 118\u001b[0m     \u001b[38;5;28;01mwith\u001b[39;00m \u001b[38;5;28;43mself\u001b[39;49m\u001b[38;5;241;43m.\u001b[39;49m\u001b[43mopen\u001b[49m\u001b[43m(\u001b[49m\u001b[38;5;28;43mself\u001b[39;49m\u001b[38;5;241;43m.\u001b[39;49m\u001b[43mVERSION_FILE\u001b[49m\u001b[43m)\u001b[49m \u001b[38;5;28;01mas\u001b[39;00m fh:\n\u001b[1;32m    119\u001b[0m         header, version_line, framework_version_line, eof \u001b[38;5;241m=\u001b[39m \\\n\u001b[1;32m    120\u001b[0m             fh\u001b[38;5;241m.\u001b[39mread()\u001b[38;5;241m.\u001b[39msplit(\u001b[38;5;124m'\u001b[39m\u001b[38;5;130;01m\\n\u001b[39;00m\u001b[38;5;124m'\u001b[39m)\n",
      "File \u001b[0;32m~/miniconda3/envs/qiime2-amplicon-2024.5/lib/python3.9/site-packages/qiime2/core/archive/archiver.py:248\u001b[0m, in \u001b[0;36m_NoOpArchive.open\u001b[0;34m(self, relpath)\u001b[0m\n\u001b[1;32m    247\u001b[0m \u001b[38;5;28;01mdef\u001b[39;00m \u001b[38;5;21mopen\u001b[39m(\u001b[38;5;28mself\u001b[39m, relpath):\n\u001b[0;32m--> 248\u001b[0m     \u001b[38;5;28;01mreturn\u001b[39;00m \u001b[38;5;28;43mopen\u001b[39;49m\u001b[43m(\u001b[49m\u001b[43mos\u001b[49m\u001b[38;5;241;43m.\u001b[39;49m\u001b[43mpath\u001b[49m\u001b[38;5;241;43m.\u001b[39;49m\u001b[43mjoin\u001b[49m\u001b[43m(\u001b[49m\u001b[38;5;28;43mself\u001b[39;49m\u001b[38;5;241;43m.\u001b[39;49m\u001b[43mpath\u001b[49m\u001b[43m,\u001b[49m\u001b[43m \u001b[49m\u001b[43mrelpath\u001b[49m\u001b[43m)\u001b[49m\u001b[43m)\u001b[49m\n",
      "\u001b[0;31mFileNotFoundError\u001b[0m: [Errno 2] No such file or directory: '../input/metadata_files/VERSION'",
      "\nDuring handling of the above exception, another exception occurred:\n",
      "\u001b[0;31mValueError\u001b[0m                                Traceback (most recent call last)",
      "Cell \u001b[0;32mIn[6], line 4\u001b[0m\n\u001b[1;32m      1\u001b[0m \u001b[38;5;66;03m# Load the data\u001b[39;00m\n\u001b[1;32m      3\u001b[0m \u001b[38;5;28mprint\u001b[39m(\u001b[38;5;124m\"\u001b[39m\u001b[38;5;124mAbout to load the feature table\u001b[39m\u001b[38;5;124m\"\u001b[39m)\n\u001b[0;32m----> 4\u001b[0m feature_table \u001b[38;5;241m=\u001b[39m \u001b[43mArtifact\u001b[49m\u001b[38;5;241;43m.\u001b[39;49m\u001b[43mload\u001b[49m\u001b[43m(\u001b[49m\u001b[38;5;124;43m\"\u001b[39;49m\u001b[38;5;124;43m../input/metadata_files/\u001b[39;49m\u001b[38;5;124;43m\"\u001b[39;49m\u001b[43m)\u001b[49m\n\u001b[1;32m      5\u001b[0m \u001b[38;5;28mprint\u001b[39m(\u001b[38;5;124m\"\u001b[39m\u001b[38;5;124mDone\u001b[39m\u001b[38;5;124m\"\u001b[39m)\n\u001b[1;32m      7\u001b[0m \u001b[38;5;66;03m# Load the metadata using loop\u001b[39;00m\n",
      "File \u001b[0;32m~/miniconda3/envs/qiime2-amplicon-2024.5/lib/python3.9/site-packages/qiime2/sdk/result.py:75\u001b[0m, in \u001b[0;36mResult.load\u001b[0;34m(cls, filepath)\u001b[0m\n\u001b[1;32m     71\u001b[0m \u001b[38;5;66;03m# Check if the data is already in the cache (if the uuid is in\u001b[39;00m\n\u001b[1;32m     72\u001b[0m \u001b[38;5;66;03m# cache.data) and load it from the cache if it is. Avoids unzipping the\u001b[39;00m\n\u001b[1;32m     73\u001b[0m \u001b[38;5;66;03m# qza again if we already have it.\u001b[39;00m\n\u001b[1;32m     74\u001b[0m cache \u001b[38;5;241m=\u001b[39m get_cache()\n\u001b[0;32m---> 75\u001b[0m peek \u001b[38;5;241m=\u001b[39m \u001b[38;5;28;43mcls\u001b[39;49m\u001b[38;5;241;43m.\u001b[39;49m\u001b[43mpeek\u001b[49m\u001b[43m(\u001b[49m\u001b[43mfilepath\u001b[49m\u001b[43m)\u001b[49m\n\u001b[1;32m     76\u001b[0m archiver \u001b[38;5;241m=\u001b[39m cache\u001b[38;5;241m.\u001b[39m_load_uuid(peek\u001b[38;5;241m.\u001b[39muuid)\n\u001b[1;32m     78\u001b[0m \u001b[38;5;28;01mif\u001b[39;00m \u001b[38;5;129;01mnot\u001b[39;00m archiver:\n",
      "File \u001b[0;32m~/miniconda3/envs/qiime2-amplicon-2024.5/lib/python3.9/site-packages/qiime2/sdk/result.py:59\u001b[0m, in \u001b[0;36mResult.peek\u001b[0;34m(cls, filepath)\u001b[0m\n\u001b[1;32m     57\u001b[0m \u001b[38;5;129m@classmethod\u001b[39m\n\u001b[1;32m     58\u001b[0m \u001b[38;5;28;01mdef\u001b[39;00m \u001b[38;5;21mpeek\u001b[39m(\u001b[38;5;28mcls\u001b[39m, filepath):\n\u001b[0;32m---> 59\u001b[0m     \u001b[38;5;28;01mreturn\u001b[39;00m ResultMetadata(\u001b[38;5;241m*\u001b[39m\u001b[43marchive\u001b[49m\u001b[38;5;241;43m.\u001b[39;49m\u001b[43mArchiver\u001b[49m\u001b[38;5;241;43m.\u001b[39;49m\u001b[43mpeek\u001b[49m\u001b[43m(\u001b[49m\u001b[43mfilepath\u001b[49m\u001b[43m)\u001b[49m)\n",
      "File \u001b[0;32m~/miniconda3/envs/qiime2-amplicon-2024.5/lib/python3.9/site-packages/qiime2/core/archive/archiver.py:336\u001b[0m, in \u001b[0;36mArchiver.peek\u001b[0;34m(cls, filepath)\u001b[0m\n\u001b[1;32m    334\u001b[0m \u001b[38;5;129m@classmethod\u001b[39m\n\u001b[1;32m    335\u001b[0m \u001b[38;5;28;01mdef\u001b[39;00m \u001b[38;5;21mpeek\u001b[39m(\u001b[38;5;28mcls\u001b[39m, filepath):\n\u001b[0;32m--> 336\u001b[0m     archive \u001b[38;5;241m=\u001b[39m \u001b[38;5;28;43mcls\u001b[39;49m\u001b[38;5;241;43m.\u001b[39;49m\u001b[43mget_archive\u001b[49m\u001b[43m(\u001b[49m\u001b[43mfilepath\u001b[49m\u001b[43m)\u001b[49m\n\u001b[1;32m    337\u001b[0m     Format \u001b[38;5;241m=\u001b[39m \u001b[38;5;28mcls\u001b[39m\u001b[38;5;241m.\u001b[39mget_format_class(archive\u001b[38;5;241m.\u001b[39mversion)\n\u001b[1;32m    338\u001b[0m     \u001b[38;5;28;01mif\u001b[39;00m Format \u001b[38;5;129;01mis\u001b[39;00m \u001b[38;5;28;01mNone\u001b[39;00m:\n",
      "File \u001b[0;32m~/miniconda3/envs/qiime2-amplicon-2024.5/lib/python3.9/site-packages/qiime2/core/archive/archiver.py:320\u001b[0m, in \u001b[0;36mArchiver.get_archive\u001b[0;34m(cls, filepath)\u001b[0m\n\u001b[1;32m    318\u001b[0m     archive \u001b[38;5;241m=\u001b[39m _ZipArchive(filepath)\n\u001b[1;32m    319\u001b[0m \u001b[38;5;28;01melif\u001b[39;00m _NoOpArchive\u001b[38;5;241m.\u001b[39mis_archive_type(filepath):\n\u001b[0;32m--> 320\u001b[0m     archive \u001b[38;5;241m=\u001b[39m \u001b[43m_NoOpArchive\u001b[49m\u001b[43m(\u001b[49m\u001b[43mfilepath\u001b[49m\u001b[43m)\u001b[49m\n\u001b[1;32m    321\u001b[0m \u001b[38;5;28;01melse\u001b[39;00m:\n\u001b[1;32m    322\u001b[0m     \u001b[38;5;28;01mraise\u001b[39;00m \u001b[38;5;167;01mValueError\u001b[39;00m(\u001b[38;5;124m\"\u001b[39m\u001b[38;5;132;01m%s\u001b[39;00m\u001b[38;5;124m is not a QIIME archive.\u001b[39m\u001b[38;5;124m\"\u001b[39m \u001b[38;5;241m%\u001b[39m filepath)\n",
      "File \u001b[0;32m~/miniconda3/envs/qiime2-amplicon-2024.5/lib/python3.9/site-packages/qiime2/core/archive/archiver.py:92\u001b[0m, in \u001b[0;36m_Archive.__init__\u001b[0;34m(self, path)\u001b[0m\n\u001b[1;32m     89\u001b[0m \u001b[38;5;28mself\u001b[39m\u001b[38;5;241m.\u001b[39mpath \u001b[38;5;241m=\u001b[39m path\n\u001b[1;32m     91\u001b[0m \u001b[38;5;28mself\u001b[39m\u001b[38;5;241m.\u001b[39muuid \u001b[38;5;241m=\u001b[39m \u001b[38;5;28mself\u001b[39m\u001b[38;5;241m.\u001b[39m_get_uuid()\n\u001b[0;32m---> 92\u001b[0m \u001b[38;5;28mself\u001b[39m\u001b[38;5;241m.\u001b[39mversion, \u001b[38;5;28mself\u001b[39m\u001b[38;5;241m.\u001b[39mframework_version \u001b[38;5;241m=\u001b[39m \u001b[38;5;28;43mself\u001b[39;49m\u001b[38;5;241;43m.\u001b[39;49m\u001b[43m_get_versions\u001b[49m\u001b[43m(\u001b[49m\u001b[43m)\u001b[49m\n",
      "File \u001b[0;32m~/miniconda3/envs/qiime2-amplicon-2024.5/lib/python3.9/site-packages/qiime2/core/archive/archiver.py:128\u001b[0m, in \u001b[0;36m_Archive._get_versions\u001b[0;34m(self)\u001b[0m\n\u001b[1;32m    125\u001b[0m     \u001b[38;5;28;01mreturn\u001b[39;00m version, framework_version\n\u001b[1;32m    126\u001b[0m \u001b[38;5;28;01mexcept\u001b[39;00m \u001b[38;5;167;01mException\u001b[39;00m:\n\u001b[1;32m    127\u001b[0m     \u001b[38;5;66;03m# TODO: make a \"better\" parser which isn't just a catch-all\u001b[39;00m\n\u001b[0;32m--> 128\u001b[0m     \u001b[38;5;28;01mraise\u001b[39;00m \u001b[38;5;167;01mValueError\u001b[39;00m(\u001b[38;5;124m\"\u001b[39m\u001b[38;5;124mArchive does not contain a correctly formatted\u001b[39m\u001b[38;5;124m\"\u001b[39m\n\u001b[1;32m    129\u001b[0m                      \u001b[38;5;124m\"\u001b[39m\u001b[38;5;124m VERSION file.\u001b[39m\u001b[38;5;124m\"\u001b[39m)\n",
      "\u001b[0;31mValueError\u001b[0m: Archive does not contain a correctly formatted VERSION file."
     ]
    }
   ],
   "source": [
    "# Load the data\n",
    "\n",
    "print(\"About to load the feature table\")\n",
    "feature_table = Artifact.load(\"../input/metadata_files/\")\n",
    "print(\"Done\")\n",
    "\n",
    "# Load the metadata using loop\n",
    "\n",
    "compartments = [\"Mucus\", \"Tissue\", \"Skeleton\"]\n",
    "categories = [\"neutral\", \"above\", \"below\"]\n",
    "merged_metadata = None\n",
    "\n",
    "\n",
    "for category in categories:\n",
    "    for compartment in compartments:\n",
    "        print(f\"my compartment is {compartment} and my category is {category}\")\n",
    "        \n",
    "        # Convert CSV to TSV\n",
    "        input_csv = f\"../input/{compartment}_{category}_metadata.csv\"\n",
    "        input_tsv = f\"../input/{compartment}_{category}_metadata.tsv\"\n",
    "        \n",
    "        df = pd.read_csv(input_csv)\n",
    "        df.to_csv(input_tsv, sep='\\t', index=False)\n",
    "        \n",
    "        compartment_metadata = Metadata.load(input_tsv)\n",
    "        \n",
    "        if merged_metadata is None:\n",
    "            merged_metadata = compartment_metadata\n",
    "            continue\n",
    "        \n",
    "        # Merge metadata\n",
    "        merged_result = merge(\n",
    "            tables=[compartment_metadata, merged_metadata])\n",
    "        \n",
    "        print(f\"Merged metadata results {merged_result}:\")\n",
    "        merged_metadata = merged_result.merged_table\n",
    "\n",
    "print(\"Done loading metadata\")\n",
    "\n",
    "# Convert to CSV\n",
    "metadata_df = merged_metadata.to_dataframe()\n",
    "metadata_df.to_csv(\"../output/merged_metadata.csv\")\n",
    "print(\"Metadata saved as CSV\")\n",
    "\n",
    "metadata = metadata_df\n",
    "\n",
    "\n",
    "# Summarize the feature table\n",
    "print(\"Summarizing the feature table...\")\n",
    "summary_result = feature_table.actions.summarize(\n",
    "    table=feature_table,\n",
    "    sample_metadata=sample_metadata\n",
    ")\n",
    "\n",
    "\n",
    "# alpha/beta diversity analysis\n",
    "\n",
    "# Calculate alpha diversity\n",
    "alpha_result = alpha(table=feature_table, metric=\"observed_features\")\n",
    "observed_features = alpha_result.alpha_diversity\n",
    "\n",
    "alpha_result = alpha(table=feature_table, metric=\"gini_index\")\n",
    "gini_index = alpha_result.alpha_diversity\n"
   ]
  },
  {
   "cell_type": "code",
   "execution_count": 10,
   "id": "959d8847",
   "metadata": {
    "scrolled": true
   },
   "outputs": [
    {
     "name": "stdout",
     "output_type": "stream",
     "text": [
      "Mucus\n",
      "../input/Mucus_combinded_table.csv\n",
      "../output/Mucus_combined_table_index_renamed.tsv\n",
      "# Turn BIOM file into QIIME 2 artifact (qza) for Mucus\n",
      "\u001b[32mImported ../output/Mucus_combined_table.biom as BIOMV100Format to ../output/Mucus_feature_table.qza\u001b[0m\n",
      "\u001b[0mValidating QIIME 2 artifact: ../output/Mucus_feature_table.qza\n",
      "\u001b[32mResult ../output/Mucus_feature_table.qza appears to be valid at level=max.\u001b[0m\n",
      "\u001b[0mTissue\n",
      "../input/Tissue_combinded_table.csv\n",
      "../output/Tissue_combined_table_index_renamed.tsv\n",
      "# Turn BIOM file into QIIME 2 artifact (qza) for Tissue\n",
      "\u001b[32mImported ../output/Tissue_combined_table.biom as BIOMV100Format to ../output/Tissue_feature_table.qza\u001b[0m\n",
      "\u001b[0mValidating QIIME 2 artifact: ../output/Tissue_feature_table.qza\n",
      "\u001b[32mResult ../output/Tissue_feature_table.qza appears to be valid at level=max.\u001b[0m\n",
      "\u001b[0mSkeleton\n",
      "../input/Skeleton_combinded_table.csv\n",
      "../output/Skeleton_combined_table_index_renamed.tsv\n",
      "# Turn BIOM file into QIIME 2 artifact (qza) for Skeleton\n",
      "\u001b[32mImported ../output/Skeleton_combined_table.biom as BIOMV100Format to ../output/Skeleton_feature_table.qza\u001b[0m\n",
      "\u001b[0mValidating QIIME 2 artifact: ../output/Skeleton_feature_table.qza\n",
      "\u001b[32mResult ../output/Skeleton_feature_table.qza appears to be valid at level=max.\u001b[0m\n",
      "\u001b[0mCalculating alpha diversity metrics for all compartments...\n",
      "\n",
      "Processing alpha diversity for Mucus...\n",
      "mucus - Done: abundance/prevalence filtering\n",
      "mucus - Done: frequency/sample filtering\n"
     ]
    },
    {
     "name": "stderr",
     "output_type": "stream",
     "text": [
      "/home/bebefg/miniconda3/envs/qiime2-amplicon-2024.5/lib/python3.9/site-packages/skbio/util/_warning.py:60: UserWarning: observed_otus is deprecated as of 0.6.0.\n",
      "  warn(f\"{func.__name__} is deprecated as of {ver}.\")\n",
      "/home/bebefg/miniconda3/envs/qiime2-amplicon-2024.5/lib/python3.9/site-packages/q2_types/sample_data/_transformer.py:27: FutureWarning: errors='ignore' is deprecated and will raise in a future version. Use to_numeric without passing `errors` and catch exceptions explicitly instead\n",
      "  df[cols] = df[cols].apply(pd.to_numeric, errors='ignore')\n"
     ]
    },
    {
     "name": "stdout",
     "output_type": "stream",
     "text": [
      "mucus - Done: observed_features\n"
     ]
    },
    {
     "name": "stderr",
     "output_type": "stream",
     "text": [
      "/home/bebefg/miniconda3/envs/qiime2-amplicon-2024.5/lib/python3.9/site-packages/q2_types/sample_data/_transformer.py:27: FutureWarning: errors='ignore' is deprecated and will raise in a future version. Use to_numeric without passing `errors` and catch exceptions explicitly instead\n",
      "  df[cols] = df[cols].apply(pd.to_numeric, errors='ignore')\n"
     ]
    },
    {
     "name": "stdout",
     "output_type": "stream",
     "text": [
      "mucus - Done: gini_index\n",
      "Alpha diversity results saved to ../output/Mucus_alpha_diversity.csv\n",
      "\n",
      "Processing alpha diversity for Tissue...\n",
      "tissue - Done: abundance/prevalence filtering\n",
      "tissue - Done: frequency/sample filtering\n"
     ]
    },
    {
     "name": "stderr",
     "output_type": "stream",
     "text": [
      "/home/bebefg/miniconda3/envs/qiime2-amplicon-2024.5/lib/python3.9/site-packages/q2_types/sample_data/_transformer.py:27: FutureWarning: errors='ignore' is deprecated and will raise in a future version. Use to_numeric without passing `errors` and catch exceptions explicitly instead\n",
      "  df[cols] = df[cols].apply(pd.to_numeric, errors='ignore')\n"
     ]
    },
    {
     "name": "stdout",
     "output_type": "stream",
     "text": [
      "tissue - Done: observed_features\n"
     ]
    },
    {
     "name": "stderr",
     "output_type": "stream",
     "text": [
      "/home/bebefg/miniconda3/envs/qiime2-amplicon-2024.5/lib/python3.9/site-packages/q2_types/sample_data/_transformer.py:27: FutureWarning: errors='ignore' is deprecated and will raise in a future version. Use to_numeric without passing `errors` and catch exceptions explicitly instead\n",
      "  df[cols] = df[cols].apply(pd.to_numeric, errors='ignore')\n"
     ]
    },
    {
     "name": "stdout",
     "output_type": "stream",
     "text": [
      "tissue - Done: gini_index\n",
      "Alpha diversity results saved to ../output/Tissue_alpha_diversity.csv\n",
      "\n",
      "Processing alpha diversity for Skeleton...\n",
      "skeleton - Done: abundance/prevalence filtering\n",
      "skeleton - Done: frequency/sample filtering\n"
     ]
    },
    {
     "name": "stderr",
     "output_type": "stream",
     "text": [
      "/home/bebefg/miniconda3/envs/qiime2-amplicon-2024.5/lib/python3.9/site-packages/q2_types/sample_data/_transformer.py:27: FutureWarning: errors='ignore' is deprecated and will raise in a future version. Use to_numeric without passing `errors` and catch exceptions explicitly instead\n",
      "  df[cols] = df[cols].apply(pd.to_numeric, errors='ignore')\n"
     ]
    },
    {
     "name": "stdout",
     "output_type": "stream",
     "text": [
      "skeleton - Done: observed_features\n",
      "skeleton - Done: gini_index\n",
      "Alpha diversity results saved to ../output/Skeleton_alpha_diversity.csv\n",
      "All processing complete!\n"
     ]
    },
    {
     "name": "stderr",
     "output_type": "stream",
     "text": [
      "/home/bebefg/miniconda3/envs/qiime2-amplicon-2024.5/lib/python3.9/site-packages/q2_types/sample_data/_transformer.py:27: FutureWarning: errors='ignore' is deprecated and will raise in a future version. Use to_numeric without passing `errors` and catch exceptions explicitly instead\n",
      "  df[cols] = df[cols].apply(pd.to_numeric, errors='ignore')\n"
     ]
    }
   ],
   "source": [
    "compartments = [\"Mucus\", \"Tissue\", \"Skeleton\"]\n",
    "for compartment in compartments:\n",
    "    print(compartment)\n",
    "    input_csv = f\"../input/{compartment}_combinded_table.csv\"\n",
    "    print(input_csv)\n",
    "    combined_table = pd.read_csv(input_csv)\n",
    "    combined_table = combined_table.set_index(\"id\")\n",
    "    combined_table = combined_table.rename_axis(\"#OTU ID\")\n",
    "    output_csv = f\"../output/{compartment}_combined_table_index_renamed.tsv\"\n",
    "    combined_table.to_csv(output_csv, sep = '\\t' )\n",
    "    print(output_csv)\n",
    "    output_biom = f\"../output/{compartment}_combined_table.biom\"\n",
    "    !biom convert --input-fp $output_csv -o $output_biom --table-type='OTU table' --to-json\n",
    "    \n",
    "    # Turn BIOM file into QIIME 2 artifact (qza)\n",
    "    print(f\"# Turn BIOM file into QIIME 2 artifact (qza) for {compartment}\")\n",
    "    output_qza = f\"../output/{compartment}_feature_table.qza\"\n",
    "    !qiime tools import \\\n",
    "      --input-path {output_biom} \\\n",
    "      --type 'FeatureTable[Frequency]' \\\n",
    "      --input-format BIOMV100Format \\\n",
    "      --output-path {output_qza}\n",
    "    \n",
    "    # Validate the QIIME 2 artifact\n",
    "    print(f\"Validating QIIME 2 artifact: {output_qza}\")\n",
    "    !qiime tools validate {output_qza}\n",
    "\n",
    "# Define the alpha diversity calculation function\n",
    "def calc_alpha_diversity(feature_table_path, sample_type, metrics=[\"observed_features\", \"gini_index\"]):\n",
    "    \"\"\"\n",
    "    Calculate and return alpha diversity metrics for a feature table.\n",
    "    \n",
    "    Parameters:\n",
    "    - feature_table_path: str, path to the .qza file\n",
    "    - sample_type: str, name of the sample (e.g., 'tissue', 'skeleton', 'mucus')\n",
    "    - metrics: list, alpha diversity metrics to calculate\n",
    "    \n",
    "    Returns:\n",
    "    - DataFrame with sample IDs as index and metrics + sample type as columns\n",
    "    \"\"\"\n",
    "    # Load feature table\n",
    "    feature_table = Artifact.load(feature_table_path)\n",
    "    # Filter by abundance and prevalence\n",
    "    filtered_result = filter_features_conditionally(\n",
    "        table=feature_table, abundance=0.01, prevalence=1/50)\n",
    "    \n",
    "    filtered_table = filtered_result.filtered_table\n",
    "    print(f\"{sample_type} - Done: abundance/prevalence filtering\")\n",
    "    \n",
    "    # Further filter by min frequency and abundance\n",
    "    filtered_result = filter_features(\n",
    "        table=filtered_table, min_frequency=100, min_samples=2, filter_empty_samples=True)\n",
    "    \n",
    "    filtered_table = filtered_result.filtered_table\n",
    "    print(f\"{sample_type} - Done: frequency/sample filtering\")\n",
    "   # Collect alpha diversity results\n",
    "    alpha_results = {}\n",
    "    for metric in metrics:\n",
    "        alpha_result = alpha(table=filtered_table, metric=metric)\n",
    "        alpha_series = alpha_result.alpha_diversity.view(pd.Series)\n",
    "        alpha_results[metric] = alpha_series\n",
    "        print(f\"{sample_type} - Done: {metric}\")\n",
    "    # Combine into single DataFrame\n",
    "    df = pd.DataFrame(alpha_results)\n",
    "    df[\"sample_type\"] = sample_type\n",
    "    return df\n",
    "\n",
    "# Alpha diversity calculation for all compartments\n",
    "print(\"Calculating alpha diversity metrics for all compartments...\")\n",
    "\n",
    "# Define metrics to use\n",
    "metrics = [\"observed_features\", \"gini_index\"]\n",
    "all_alpha_results = []\n",
    "\n",
    "# Loop through all compartments for alpha diversity calculation\n",
    "for compartment in compartments:\n",
    "    print(f\"\\nProcessing alpha diversity for {compartment}...\")\n",
    "    feature_table_qza = f\"../output/{compartment}_feature_table.qza\"\n",
    "    \n",
    "    # Calculate alpha diversity using the function\n",
    "    alpha_df = calc_alpha_diversity(\n",
    "        feature_table_path=feature_table_qza,\n",
    "        sample_type=compartment.lower(),\n",
    "        metrics=metrics\n",
    "    )\n",
    "    \n",
    "    # Add to the collection\n",
    "    all_alpha_results.append(alpha_df)\n",
    "    \n",
    "    # Save individual compartment results\n",
    "    output_csv = f\"../output/{compartment}_alpha_diversity.csv\"\n",
    "    alpha_df.to_csv(output_csv)\n",
    "    print(f\"Alpha diversity results saved to {output_csv}\")\n",
    "\n",
    "\n",
    "print(\"All processing complete!\")\n",
    "\n"
   ]
  },
  {
   "cell_type": "code",
   "execution_count": 9,
   "id": "92d7efa4",
   "metadata": {},
   "outputs": [
    {
     "data": {
      "text/plain": [
       "['all_compartment_category_feature_table.qza',\n",
       " 'all_compartment_category_feature_table_summary.qzv',\n",
       " 'Mucus_above_feature_table.qza',\n",
       " 'Mucus_above_table.biom',\n",
       " 'Mucus_above_table_index_renamed.tsv',\n",
       " 'Mucus_alpha_diversity.csv',\n",
       " 'Mucus_below_feature_table.qza',\n",
       " 'Mucus_below_table.biom',\n",
       " 'Mucus_below_table_index_renamed.tsv',\n",
       " 'Mucus_combined_table.biom',\n",
       " 'mucus_combined_table.qza',\n",
       " 'Mucus_combined_table_index_renamed.tsv',\n",
       " 'Mucus_feature_table.qza',\n",
       " 'Mucus_neutral_feature_table.qza',\n",
       " 'Mucus_neutral_table.biom',\n",
       " 'Mucus_neutral_table_index_renamed.tsv',\n",
       " 'Skeleton_above_feature_table.qza',\n",
       " 'Skeleton_above_table.biom',\n",
       " 'Skeleton_above_table_index_renamed.tsv',\n",
       " 'Skeleton_alpha_diversity.csv',\n",
       " 'Skeleton_below_feature_table.qza',\n",
       " 'Skeleton_below_table.biom',\n",
       " 'Skeleton_below_table_index_renamed.tsv',\n",
       " 'Skeleton_combined_table.biom',\n",
       " 'Skeleton_combined_table_index_renamed.tsv',\n",
       " 'Skeleton_feature_table.qza',\n",
       " 'Skeleton_neutral_feature_table.qza',\n",
       " 'Skeleton_neutral_table.biom',\n",
       " 'Skeleton_neutral_table_index_renamed.tsv',\n",
       " 'Tissue_above_feature_table.qza',\n",
       " 'Tissue_above_table.biom',\n",
       " 'Tissue_above_table_index_renamed.tsv',\n",
       " 'Tissue_alpha_diversity.csv',\n",
       " 'Tissue_below_feature_table.qza',\n",
       " 'Tissue_below_table.biom',\n",
       " 'Tissue_below_table_index_renamed.tsv',\n",
       " 'Tissue_combined_table.biom',\n",
       " 'Tissue_combined_table_index_renamed.tsv',\n",
       " 'Tissue_feature_table.qza',\n",
       " 'Tissue_neutral_feature_table.qza',\n",
       " 'Tissue_neutral_table.biom',\n",
       " 'Tissue_neutral_table_index_renamed.tsv']"
      ]
     },
     "execution_count": 9,
     "metadata": {},
     "output_type": "execute_result"
    }
   ],
   "source": [
    "from os import listdir\n",
    "listdir(\"../output\")"
   ]
  },
  {
   "cell_type": "code",
   "execution_count": 8,
   "id": "b811e7cc",
   "metadata": {},
   "outputs": [
    {
     "data": {
      "text/plain": [
       "['Mucus_above_mapping.csv',\n",
       " 'Mucus_above_table.csv',\n",
       " 'Mucus_above_table.tsv',\n",
       " 'Mucus_above_taxonomy.tsv',\n",
       " 'Mucus_below_mapping.csv',\n",
       " 'Mucus_below_table.csv',\n",
       " 'Mucus_below_table.tsv',\n",
       " 'Mucus_below_taxonomy.tsv',\n",
       " 'Mucus_combinded_table.csv',\n",
       " 'Mucus_neutral_table.csv',\n",
       " 'Mucus_neutral_table.tsv',\n",
       " 'Mucus_neutral_taxonomy.tsv',\n",
       " 'Mucus_qiime_neutral_mapping.csv',\n",
       " 'Mucus_qiime_neutral_taxonomy.csv',\n",
       " 'Skeleton_above_mapping.csv',\n",
       " 'Skeleton_above_table.csv',\n",
       " 'Skeleton_above_table.tsv',\n",
       " 'Skeleton_above_taxonomy.tsv',\n",
       " 'Skeleton_below_mapping.csv',\n",
       " 'Skeleton_below_table.csv',\n",
       " 'Skeleton_below_table.tsv',\n",
       " 'Skeleton_below_taxonomy.tsv',\n",
       " 'Skeleton_combinded_table.csv',\n",
       " 'Skeleton_neutral_table.csv',\n",
       " 'Skeleton_neutral_table.tsv',\n",
       " 'Skeleton_neutral_taxonomy.tsv',\n",
       " 'Skeleton_qiime_neutral_mapping.csv',\n",
       " 'Skeleton_qiime_neutral_taxonomy.csv',\n",
       " 'Tissue_above_mapping.csv',\n",
       " 'Tissue_above_table.csv',\n",
       " 'Tissue_above_table.tsv',\n",
       " 'Tissue_above_taxonomy.tsv',\n",
       " 'Tissue_below_mapping.csv',\n",
       " 'Tissue_below_table.csv',\n",
       " 'Tissue_below_table.tsv',\n",
       " 'Tissue_below_taxonomy.tsv',\n",
       " 'Tissue_combinded_table.csv',\n",
       " 'Tissue_neutral_table.csv',\n",
       " 'Tissue_neutral_table.tsv',\n",
       " 'Tissue_neutral_taxonomy.tsv',\n",
       " 'Tissue_qiime_neutral_mapping.csv',\n",
       " 'Tissue_qiime_neutral_taxonomy.csv']"
      ]
     },
     "execution_count": 8,
     "metadata": {},
     "output_type": "execute_result"
    }
   ],
   "source": [
    "from os import listdir\n",
    "listdir(\"../input\")"
   ]
  },
  {
   "cell_type": "code",
   "execution_count": null,
   "id": "b0b42ce4",
   "metadata": {},
   "outputs": [],
   "source": []
  }
 ],
 "metadata": {
  "kernelspec": {
   "display_name": "Python 3 (ipykernel)",
   "language": "python",
   "name": "python3"
  },
  "language_info": {
   "codemirror_mode": {
    "name": "ipython",
    "version": 3
   },
   "file_extension": ".py",
   "mimetype": "text/x-python",
   "name": "python",
   "nbconvert_exporter": "python",
   "pygments_lexer": "ipython3",
   "version": "3.9.19"
  }
 },
 "nbformat": 4,
 "nbformat_minor": 5
}
